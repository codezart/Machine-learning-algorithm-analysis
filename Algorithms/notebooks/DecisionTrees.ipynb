{
 "cells": [
  {
   "cell_type": "code",
   "execution_count": 2,
   "metadata": {
    "id": "vyuB2Gl20Hcg"
   },
   "outputs": [],
   "source": [
    "import pandas as pd\n",
    "from sklearn.tree import DecisionTreeClassifier\n",
    "from sklearn.metrics import classification_report, confusion_matrix, accuracy_score, plot_confusion_matrix, make_scorer\n",
    "from sklearn.model_selection import train_test_split, KFold, cross_val_score\n",
    "from matplotlib import pyplot as plt"
   ]
  },
  {
   "cell_type": "code",
   "execution_count": 35,
   "metadata": {
    "colab": {
     "base_uri": "https://localhost:8080/",
     "height": 643
    },
    "id": "ubjGXmjwi6R-",
    "outputId": "2a95a9c9-2c66-42d8-9338-b3fab5f7152e"
   },
   "outputs": [],
   "source": [
    "#Loading the dataset\n",
    "dataset_path = \"../../Data/galaxymorphology/dataset1_sydney.csv\"\n",
    "sydney_dataset = pd.read_csv(dataset_path)\n",
    "\n",
    "sydney_train, sydney_test = train_test_split(sydney_dataset, test_size=0.2)\n",
    "\n",
    "sydney_train = sydney_train.to_numpy()\n",
    "sydney_test = sydney_test.to_numpy()"
   ]
  },
  {
   "cell_type": "code",
   "execution_count": 6,
   "metadata": {
    "id": "rxVehmBM0KIi"
   },
   "outputs": [],
   "source": [
    "\"\"\"Code to accompany Machine Learning Recipes #8.\n",
    "We'll write a Decision Tree Classifier, in pure Python.\n",
    "\"\"\"\n",
    "\n",
    "# For Python 2 / 3 compatability\n",
    "from __future__ import print_function\n",
    "\n",
    "# Toy dataset.\n",
    "# Format: each row is an example.\n",
    "# The last column is the label.\n",
    "# The first two columns are features.\n",
    "# Feel free to play with it by adding more features & examples.\n",
    "# Interesting note: I've written this so the 2nd and 5th examples\n",
    "# have the same features, but different labels - so we can see how the\n",
    "# tree handles this case.\n",
    "training_data = [\n",
    "    ['Green', 3, 'Apple'],\n",
    "    ['Yellow', 3, 'Apple'],\n",
    "    ['Red', 1, 'Grape'],\n",
    "    ['Red', 1, 'Grape'],\n",
    "    ['Yellow', 3, 'Lemon'],\n",
    "]\n",
    "\n",
    "# Column labels.\n",
    "# These are used only to print the tree.\n",
    "header = [\"color\", \"diameter\", \"label\"]\n"
   ]
  },
  {
   "cell_type": "code",
   "execution_count": 7,
   "metadata": {
    "colab": {
     "base_uri": "https://localhost:8080/"
    },
    "id": "qO3SMFUa0MZ4",
    "outputId": "d1b86443-dd80-4012-bb93-0569ade7ba20"
   },
   "outputs": [],
   "source": [
    "def unique_vals(rows, col):\n",
    "    \"\"\"Find the unique values for a column in a dataset.\"\"\"\n",
    "    return set([row[col] for row in rows])\n",
    "\n",
    "#######\n",
    "# Demo:\n",
    "# unique_vals(training_data, 0)\n",
    "# unique_vals(training_data, 1)\n",
    "#######"
   ]
  },
  {
   "cell_type": "code",
   "execution_count": 8,
   "metadata": {
    "colab": {
     "base_uri": "https://localhost:8080/"
    },
    "id": "SNVtyEM30QOB",
    "outputId": "dff3b698-50ab-470a-c2e5-310aef9eabed"
   },
   "outputs": [],
   "source": [
    "def class_counts(rows):\n",
    "    \"\"\"Counts the number of each type of example in a dataset.\"\"\"\n",
    "    counts = {}  # a dictionary of label -> count.\n",
    "    for row in rows:\n",
    "        # in our dataset format, the label is always the last column\n",
    "        label = row[-1]\n",
    "        if label not in counts:\n",
    "            counts[label] = 0\n",
    "        counts[label] += 1\n",
    "    return counts\n",
    "\n",
    "#######\n",
    "# Demo:\n",
    "# class_counts(training_data)\n",
    "#######"
   ]
  },
  {
   "cell_type": "code",
   "execution_count": 9,
   "metadata": {
    "colab": {
     "base_uri": "https://localhost:8080/"
    },
    "id": "uz2VomX40ST1",
    "outputId": "14cc8538-5a04-429e-d38e-a27f4304148d"
   },
   "outputs": [],
   "source": [
    "def is_numeric(value):\n",
    "    \"\"\"Test if a value is numeric.\"\"\"\n",
    "    return isinstance(value, int) or isinstance(value, float)\n",
    "\n",
    "#######\n",
    "# Demo:\n",
    "# print(is_numeric(7), is_numeric(\"Red\"))\n",
    "# \n",
    "#######"
   ]
  },
  {
   "cell_type": "code",
   "execution_count": 10,
   "metadata": {
    "colab": {
     "base_uri": "https://localhost:8080/",
     "height": 35
    },
    "id": "VwAIz7sl0T0v",
    "outputId": "7b7ae060-c220-4d1d-8430-0bc347ecb274"
   },
   "outputs": [],
   "source": [
    "class Question:\n",
    "    \"\"\"A Question is used to partition a dataset.\n",
    "    This class just records a 'column number' (e.g., 0 for Color) and a\n",
    "    'column value' (e.g., Green). The 'match' method is used to compare\n",
    "    the feature value in an example to the feature value stored in the\n",
    "    question. See the demo below.\n",
    "    \"\"\"\n",
    "\n",
    "    def __init__(self, column, value):\n",
    "        self.column = column #1\n",
    "        self.value = value #3\n",
    "    def match(self, example):\n",
    "        # Compare the feature value in an example to the\n",
    "        # feature value in this question.\n",
    "        val = example[self.column] #example[1]\n",
    "        if is_numeric(val):\n",
    "            return val >= self.value\n",
    "        else:\n",
    "            return val == self.value\n",
    "\n",
    "    def __repr__(self):\n",
    "        # This is just a helper method to print\n",
    "        # the question in a readable format.\n",
    "        condition = \"==\"\n",
    "        if is_numeric(self.value):\n",
    "            condition = \">=\"\n",
    "        return \"Is %s %s %s?\" % (\n",
    "            header[self.column], condition, str(self.value))\n",
    "#######\n",
    "# Demo:\n",
    "# Let's write a question for a numeric attribute\n",
    "# Question(1, 3)\n",
    "# # How about one for a categorical attribute\n",
    "# q = Question(0, 'Green')\n",
    "# # Let's pick an example from the training set...\n",
    "# example = training_data[0]\n",
    "# # ... and see if it matches the question\n",
    "# q.match(example)\n",
    "# q.__repr__()\n",
    "#######"
   ]
  },
  {
   "cell_type": "code",
   "execution_count": 11,
   "metadata": {
    "colab": {
     "base_uri": "https://localhost:8080/"
    },
    "id": "JenUp_-f0T25",
    "outputId": "f100fe02-b33e-4d03-c1ba-bea2f60f1002"
   },
   "outputs": [],
   "source": [
    "def partition(rows, question):\n",
    "    \"\"\"Partitions a dataset.\n",
    "    For each row in the dataset, check if it matches the question. If\n",
    "    so, add it to 'true rows', otherwise, add it to 'false rows'.\n",
    "    \"\"\"\n",
    "    true_rows, false_rows = [], []\n",
    "    for row in rows:\n",
    "        if question.match(row):\n",
    "            true_rows.append(row)\n",
    "        else:\n",
    "            false_rows.append(row)\n",
    "    return true_rows, false_rows\n",
    "\n",
    "\n",
    "#######\n",
    "# # Demo:\n",
    "# # Let's partition the training data based on whether rows are Red.\n",
    "# true_rows, false_rows = partition(training_data, Question(0, 'Red'))\n",
    "# # This will contain all the 'Red' rows.\n",
    "# print(true_rows)\n",
    "# print(\"#######\")\n",
    "# print(false_rows)\n",
    "# # This will contain everything else.\n",
    "# #######"
   ]
  },
  {
   "cell_type": "code",
   "execution_count": 12,
   "metadata": {
    "colab": {
     "base_uri": "https://localhost:8080/"
    },
    "id": "CDB2Rr440T4_",
    "outputId": "394fba4c-bcc0-48e7-ee89-93e77324f56d"
   },
   "outputs": [],
   "source": [
    "def gini(rows):\n",
    "    \"\"\"Calculate the Gini Impurity for a list of rows.\n",
    "    There are a few different ways to do this, I thought this one was\n",
    "    the most concise. See:\n",
    "    https://en.wikipedia.org/wiki/Decision_tree_learning#Gini_impurity\n",
    "    \"\"\"\n",
    "    counts = class_counts(rows)\n",
    "    impurity = 1\n",
    "    for label in counts:\n",
    "        prob_of_label = counts[label] / float(len(rows))\n",
    "        impurity -= prob_of_label**2\n",
    "    return impurity\n",
    "\n",
    "\n",
    "#######\n",
    "# # Demo:\n",
    "# # Let's look at some example to understand how Gini Impurity works.\n",
    "# #\n",
    "# # First, we'll look at a dataset with no mixing.\n",
    "# no_mixing = [['Apple'],\n",
    "#             ['Apple']]\n",
    "# # this will return 0\n",
    "# gini(no_mixing)\n",
    "# #\n",
    "# # Now, we'll look at dataset with a 50:50 apples:oranges ratio\n",
    "# some_mixing = [['Apple'],\n",
    "#               ['Orange']]\n",
    "# #this will return 0.5 - meaning, there's a 50% chance of misclassifying\n",
    "# # a random example we draw from the dataset.\n",
    "# gini(some_mixing)\n",
    "# #\n",
    "# # Now, we'll look at a dataset with many different labels\n",
    "# lots_of_mixing = [['Apple'],\n",
    "#                  ['Orange'],\n",
    "#                  ['Grape'],\n",
    "#                  ['Grapefruit'],\n",
    "#                  ['Blueberry']]\n",
    "# # This will return 0.8\n",
    "# gini(lots_of_mixing)\n",
    "# #######"
   ]
  },
  {
   "cell_type": "code",
   "execution_count": 13,
   "metadata": {
    "colab": {
     "base_uri": "https://localhost:8080/"
    },
    "id": "DIbok0tA0T7c",
    "outputId": "7268a4c2-a4a4-4dca-d4de-5f4445100f21"
   },
   "outputs": [],
   "source": [
    "def info_gain(left, right, current_uncertainty):\n",
    "    \"\"\"Information Gain.\n",
    "    The uncertainty of the starting node, minus the weighted impurity of\n",
    "    two child nodes.\n",
    "    \"\"\"\n",
    "    p = float(len(left)) / (len(left) + len(right))\n",
    "    return current_uncertainty - p * gini(left) - (1 - p) * gini(right)\n",
    "\n",
    "#######\n",
    "# Demo:\n",
    "# Calculate the uncertainy of our training data.\n",
    "# current_uncertainty = gini(training_data)\n",
    "# #\n",
    "# # How much information do we gain by partioning on 'Green'?\n",
    "# true_rows, false_rows = partition(training_data, Question(0, 'Green'))\n",
    "# info_gain(true_rows, false_rows, current_uncertainty)\n",
    "#\n",
    "# What about if we partioned on 'Red' instead?\n",
    "# true_rows, false_rows = partition(training_data, Question(0,'Red'))\n",
    "# info_gain(true_rows, false_rows, current_uncertainty)\n",
    "#\n",
    "# It looks like we learned more using 'Red' (0.37), than 'Green' (0.14).\n",
    "# Why? Look at the different splits that result, and see which one\n",
    "# looks more 'unmixed' to you.\n",
    "# true_rows, false_rows = partition(training_data, Question(0,'Red'))\n",
    "#\n",
    "# Here, the true_rows contain only 'Grapes'.\n",
    "# true_rows\n",
    "#\n",
    "# And the false rows contain two types of fruit. Not too bad.\n",
    "# false_rows\n",
    "#\n",
    "# On the other hand, partitioning by Green doesn't help so much.\n",
    "# true_rows, false_rows = partition(training_data, Question(0,'Green'))\n",
    "#\n",
    "# We've isolated one apple in the true rows.\n",
    "# true_rows\n",
    "#\n",
    "# But, the false-rows are badly mixed up.\n",
    "# false_rows\n",
    "#######"
   ]
  },
  {
   "cell_type": "code",
   "execution_count": 14,
   "metadata": {
    "colab": {
     "base_uri": "https://localhost:8080/"
    },
    "id": "v53NCyqi0T9p",
    "outputId": "0a5d5871-2372-4c10-b327-3680863562b1"
   },
   "outputs": [],
   "source": [
    "def find_best_split(rows):\n",
    "    \"\"\"Find the best question to ask by iterating over every feature / value\n",
    "    and calculating the information gain.\"\"\"\n",
    "    best_gain = 0  # keep track of the best information gain\n",
    "    best_question = None  # keep train of the feature / value that produced it\n",
    "    current_uncertainty = gini(rows)\n",
    "    n_features = len(rows[0]) - 1  # number of columns\n",
    "\n",
    "    for col in range(n_features):  # for each feature\n",
    "\n",
    "        values = set([row[col] for row in rows])  # unique values in the column\n",
    "\n",
    "        for val in values:  # for each value\n",
    "\n",
    "            question = Question(col, val)\n",
    "\n",
    "            # try splitting the dataset\n",
    "            true_rows, false_rows = partition(rows, question)\n",
    "\n",
    "            # Skip this split if it doesn't divide the\n",
    "            # dataset.\n",
    "            if len(true_rows) == 0 or len(false_rows) == 0:\n",
    "                continue\n",
    "\n",
    "            # Calculate the information gain from this split\n",
    "            gain = info_gain(true_rows, false_rows, current_uncertainty)\n",
    "\n",
    "            # You actually can use '>' instead of '>=' here\n",
    "            # but I wanted the tree to look a certain way for our\n",
    "            # toy dataset.\n",
    "            if gain >= best_gain:\n",
    "                best_gain, best_question = gain, question\n",
    "\n",
    "    return best_gain, best_question\n",
    "\n",
    "# #######\n",
    "# # Demo:\n",
    "# # Find the best question to ask first for our toy dataset.\n",
    "# best_gain, best_question = find_best_split(training_data)\n",
    "# # FYI: is color == Red is just as good. See the note in the code above\n",
    "# # where I used '>='.\n",
    "# print(best_gain)\n",
    "# print(best_question)\n",
    "# #######"
   ]
  },
  {
   "cell_type": "code",
   "execution_count": 15,
   "metadata": {
    "id": "pZ7YuaNB0T_r"
   },
   "outputs": [],
   "source": [
    "class Leaf:\n",
    "    \"\"\"A Leaf node classifies data.\n",
    "    This holds a dictionary of class (e.g., \"Apple\") -> number of times\n",
    "    it appears in the rows from the training data that reach this leaf.\n",
    "    \"\"\"\n",
    "\n",
    "    def __init__(self, rows):\n",
    "        self.predictions = class_counts(rows)\n"
   ]
  },
  {
   "cell_type": "code",
   "execution_count": 16,
   "metadata": {
    "id": "t2hV2NWu0inp"
   },
   "outputs": [],
   "source": [
    "class Decision_Node:\n",
    "    \"\"\"A Decision Node asks a question.\n",
    "    This holds a reference to the question, and to the two child nodes.\n",
    "    \"\"\"\n",
    "\n",
    "    def __init__(self,\n",
    "                 question,\n",
    "                 true_branch,\n",
    "                 false_branch):\n",
    "        self.question = question\n",
    "        self.true_branch = true_branch\n",
    "        self.false_branch = false_branch"
   ]
  },
  {
   "cell_type": "code",
   "execution_count": 17,
   "metadata": {
    "id": "Uc6OLnGs0il6"
   },
   "outputs": [],
   "source": [
    "def build_tree(rows):\n",
    "    \"\"\"Builds the tree.\n",
    "    Rules of recursion: 1) Believe that it works. 2) Start by checking\n",
    "    for the base case (no further information gain). 3) Prepare for\n",
    "    giant stack traces.\n",
    "    \"\"\"\n",
    "\n",
    "    # Try partitioing the dataset on each of the unique attribute,\n",
    "    # calculate the information gain,\n",
    "    # and return the question that produces the highest gain.\n",
    "    gain, question = find_best_split(rows)\n",
    "    # Base case: no further info gain\n",
    "    # Since we can ask no further questions,\n",
    "    # we'll return a leaf.\n",
    "    if gain == 0:\n",
    "        return Leaf(rows)\n",
    "\n",
    "    # If we reach here, we have found a useful feature / value\n",
    "    # to partition on.\n",
    "    true_rows, false_rows = partition(rows, question)\n",
    "\n",
    "    # Recursively build the true branch.\n",
    "    true_branch = build_tree(true_rows)\n",
    "\n",
    "    # Recursively build the false branch.\n",
    "    false_branch = build_tree(false_rows)\n",
    "\n",
    "    # Return a Question node.\n",
    "    # This records the best feature / value to ask at this point,\n",
    "    # as well as the branches to follow\n",
    "    # dependingo on the answer.\n",
    "    return Decision_Node(question, true_branch, false_branch)\n"
   ]
  },
  {
   "cell_type": "code",
   "execution_count": 18,
   "metadata": {
    "id": "wi7-FeqF0ijm"
   },
   "outputs": [],
   "source": [
    "def print_tree(node, spacing=\"\"):\n",
    "    \"\"\"World's most elegant tree printing function.\"\"\"\n",
    "\n",
    "    # Base case: we've reached a leaf\n",
    "    if isinstance(node, Leaf):\n",
    "        print (spacing + \"Predict\", node.predictions)\n",
    "        return\n",
    "\n",
    "    # Print the question at this node\n",
    "    print (spacing + str(node.question))\n",
    "\n",
    "    # Call this function recursively on the true branch\n",
    "    print (spacing + '--> True:')\n",
    "    print_tree(node.true_branch, spacing + \"  \")\n",
    "\n",
    "    # Call this function recursively on the false branch\n",
    "    print (spacing + '--> False:')\n",
    "    print_tree(node.false_branch, spacing + \"  \")"
   ]
  },
  {
   "cell_type": "code",
   "execution_count": 19,
   "metadata": {
    "colab": {
     "base_uri": "https://localhost:8080/"
    },
    "id": "H-OcBvkK0ihh",
    "outputId": "fe6564bf-61e4-4c25-cdd7-64d5103beae9"
   },
   "outputs": [],
   "source": [
    "def classify(row, node):\n",
    "    \"\"\"See the 'rules of recursion' above.\"\"\"\n",
    "\n",
    "    # Base case: we've reached a leaf\n",
    "    if isinstance(node, Leaf):\n",
    "        return node.predictions\n",
    "\n",
    "    # Decide whether to follow the true-branch or the false-branch.\n",
    "    # Compare the feature / value stored in the node,\n",
    "    # to the example we're considering.\n",
    "    if node.question.match(row):\n",
    "        return classify(row, node.true_branch)\n",
    "    else:\n",
    "        return classify(row, node.false_branch)\n",
    "\n",
    "\n",
    "# #######\n",
    "# # Demo:\n",
    "# # The tree predicts the 1st row of our\n",
    "# # training data is an apple with confidence 1.\n",
    "# my_tree = build_tree(training_data)\n",
    "\n",
    "# classify(training_data[0], my_tree)\n",
    "\n",
    "# #######"
   ]
  },
  {
   "cell_type": "code",
   "execution_count": 20,
   "metadata": {
    "id": "OBYmhThQ0tR2"
   },
   "outputs": [],
   "source": [
    "def print_leaf(counts):\n",
    "    \"\"\"A nicer way to print the predictions at a leaf.\"\"\"\n",
    "    total = sum(counts.values()) * 1.0\n",
    "    probs = {}\n",
    "    for lbl in counts.keys():\n",
    "        probs[lbl] = str(int(counts[lbl] / total * 100)) + \"%\"\n",
    "        \n",
    "    return probs\n",
    "\n",
    "\n",
    "#######\n",
    "# Demo:\n",
    "# Printing that a bit nicer\n",
    "#print_leaf(classify(training_data[0], my_tree))\n",
    "#######\n",
    "\n",
    "#######\n",
    "# Demo:\n",
    "# On the second example, the confidence is lower\n",
    "# print_leaf(classify(training_data[1], my_tree))\n",
    "#######"
   ]
  },
  {
   "cell_type": "code",
   "execution_count": 57,
   "metadata": {
    "colab": {
     "base_uri": "https://localhost:8080/"
    },
    "id": "-k9Hfeaj0tUe",
    "outputId": "71ae5559-2eaf-40fb-d0f8-b5e2632b6174"
   },
   "outputs": [
    {
     "name": "stdout",
     "output_type": "stream",
     "text": [
      "Actual: elliptical. Predicted: {'elliptical': '100%'}\n",
      "Actual: spiral. Predicted: {'spiral': '100%'}\n",
      "Actual: elliptical. Predicted: {'elliptical': '100%'}\n",
      "Actual: spiral. Predicted: {'spiral': '100%'}\n",
      "Actual: elliptical. Predicted: {'elliptical': '100%'}\n",
      "Actual: spiral. Predicted: {'spiral': '100%'}\n",
      "Actual: spiral. Predicted: {'spiral': '100%'}\n",
      "Actual: elliptical. Predicted: {'elliptical': '100%'}\n",
      "Actual: spiral. Predicted: {'spiral': '100%'}\n",
      "Actual: elliptical. Predicted: {'elliptical': '100%'}\n",
      "Actual: spiral. Predicted: {'spiral': '100%'}\n",
      "Actual: elliptical. Predicted: {'elliptical': '100%'}\n",
      "Actual: spiral. Predicted: {'spiral': '100%'}\n",
      "Actual: spiral. Predicted: {'spiral': '100%'}\n",
      "Actual: spiral. Predicted: {'spiral': '100%'}\n",
      "Actual: spiral. Predicted: {'spiral': '100%'}\n",
      "Actual: elliptical. Predicted: {'elliptical': '100%'}\n",
      "Actual: elliptical. Predicted: {'elliptical': '100%'}\n",
      "Actual: elliptical. Predicted: {'elliptical': '100%'}\n",
      "Actual: spiral. Predicted: {'spiral': '100%'}\n",
      "Actual: elliptical. Predicted: {'elliptical': '100%'}\n",
      "Actual: spiral. Predicted: {'spiral': '100%'}\n",
      "Actual: spiral. Predicted: {'spiral': '100%'}\n",
      "Actual: elliptical. Predicted: {'elliptical': '100%'}\n",
      "Actual: elliptical. Predicted: {'elliptical': '100%'}\n",
      "Actual: elliptical. Predicted: {'spiral': '100%'}\n",
      "Actual: spiral. Predicted: {'spiral': '100%'}\n",
      "Actual: elliptical. Predicted: {'elliptical': '100%'}\n",
      "Actual: spiral. Predicted: {'spiral': '100%'}\n",
      "Actual: spiral. Predicted: {'spiral': '100%'}\n",
      "Actual: elliptical. Predicted: {'elliptical': '100%'}\n",
      "Actual: elliptical. Predicted: {'elliptical': '100%'}\n",
      "Actual: elliptical. Predicted: {'elliptical': '100%'}\n",
      "Actual: elliptical. Predicted: {'elliptical': '100%'}\n",
      "Actual: elliptical. Predicted: {'elliptical': '100%'}\n",
      "Actual: elliptical. Predicted: {'elliptical': '100%'}\n",
      "Actual: spiral. Predicted: {'spiral': '100%'}\n",
      "Actual: elliptical. Predicted: {'elliptical': '100%'}\n",
      "Actual: elliptical. Predicted: {'elliptical': '100%'}\n",
      "Actual: spiral. Predicted: {'spiral': '100%'}\n",
      "Actual: elliptical. Predicted: {'elliptical': '100%'}\n",
      "Actual: spiral. Predicted: {'spiral': '100%'}\n",
      "Actual: spiral. Predicted: {'spiral': '100%'}\n",
      "Actual: spiral. Predicted: {'spiral': '100%'}\n",
      "Actual: elliptical. Predicted: {'elliptical': '100%'}\n",
      "Actual: spiral. Predicted: {'spiral': '100%'}\n",
      "Actual: elliptical. Predicted: {'elliptical': '100%'}\n",
      "Actual: elliptical. Predicted: {'elliptical': '100%'}\n",
      "Actual: elliptical. Predicted: {'elliptical': '100%'}\n",
      "Actual: elliptical. Predicted: {'elliptical': '100%'}\n",
      "Actual: elliptical. Predicted: {'elliptical': '100%'}\n",
      "Actual: elliptical. Predicted: {'elliptical': '100%'}\n",
      "Actual: spiral. Predicted: {'spiral': '100%'}\n",
      "Actual: elliptical. Predicted: {'spiral': '100%'}\n",
      "Actual: elliptical. Predicted: {'elliptical': '100%'}\n",
      "Actual: spiral. Predicted: {'spiral': '100%'}\n",
      "Actual: elliptical. Predicted: {'elliptical': '100%'}\n",
      "Actual: elliptical. Predicted: {'elliptical': '100%'}\n",
      "Actual: elliptical. Predicted: {'elliptical': '100%'}\n",
      "Actual: spiral. Predicted: {'spiral': '100%'}\n",
      "Actual: spiral. Predicted: {'spiral': '100%'}\n",
      "Actual: elliptical. Predicted: {'elliptical': '100%'}\n",
      "Actual: spiral. Predicted: {'spiral': '100%'}\n",
      "Actual: spiral. Predicted: {'spiral': '100%'}\n",
      "Actual: spiral. Predicted: {'spiral': '100%'}\n",
      "Actual: spiral. Predicted: {'spiral': '100%'}\n",
      "Actual: elliptical. Predicted: {'elliptical': '100%'}\n",
      "Actual: spiral. Predicted: {'spiral': '100%'}\n",
      "Actual: spiral. Predicted: {'elliptical': '100%'}\n",
      "Actual: spiral. Predicted: {'spiral': '100%'}\n",
      "Actual: spiral. Predicted: {'spiral': '100%'}\n",
      "Actual: elliptical. Predicted: {'elliptical': '100%'}\n",
      "Actual: elliptical. Predicted: {'elliptical': '100%'}\n",
      "Actual: spiral. Predicted: {'spiral': '100%'}\n",
      "Actual: spiral. Predicted: {'spiral': '100%'}\n",
      "Actual: spiral. Predicted: {'spiral': '100%'}\n",
      "Actual: spiral. Predicted: {'spiral': '100%'}\n",
      "Actual: spiral. Predicted: {'spiral': '100%'}\n",
      "Actual: elliptical. Predicted: {'elliptical': '100%'}\n",
      "Actual: elliptical. Predicted: {'elliptical': '100%'}\n",
      "Actual: spiral. Predicted: {'spiral': '100%'}\n",
      "Actual: elliptical. Predicted: {'elliptical': '100%'}\n",
      "Actual: spiral. Predicted: {'spiral': '100%'}\n",
      "Actual: elliptical. Predicted: {'elliptical': '100%'}\n",
      "Actual: spiral. Predicted: {'spiral': '100%'}\n",
      "Actual: spiral. Predicted: {'spiral': '100%'}\n",
      "Actual: elliptical. Predicted: {'elliptical': '100%'}\n",
      "Actual: spiral. Predicted: {'spiral': '100%'}\n",
      "Actual: spiral. Predicted: {'spiral': '100%'}\n",
      "Actual: spiral. Predicted: {'spiral': '100%'}\n",
      "Actual: elliptical. Predicted: {'elliptical': '100%'}\n",
      "Actual: elliptical. Predicted: {'elliptical': '100%'}\n",
      "Actual: spiral. Predicted: {'elliptical': '100%'}\n",
      "Actual: spiral. Predicted: {'spiral': '100%'}\n",
      "Actual: elliptical. Predicted: {'elliptical': '100%'}\n",
      "Actual: elliptical. Predicted: {'elliptical': '100%'}\n",
      "Actual: elliptical. Predicted: {'elliptical': '100%'}\n",
      "Actual: spiral. Predicted: {'spiral': '100%'}\n",
      "Actual: spiral. Predicted: {'spiral': '100%'}\n",
      "Actual: elliptical. Predicted: {'elliptical': '100%'}\n",
      "Actual: spiral. Predicted: {'spiral': '100%'}\n",
      "Actual: elliptical. Predicted: {'elliptical': '100%'}\n",
      "Actual: spiral. Predicted: {'spiral': '100%'}\n",
      "Actual: elliptical. Predicted: {'elliptical': '100%'}\n",
      "              precision    recall  f1-score   support\n",
      "\n",
      "  elliptical       0.96      0.96      0.96        52\n",
      "      spiral       0.96      0.96      0.96        52\n",
      "\n",
      "    accuracy                           0.96       104\n",
      "   macro avg       0.96      0.96      0.96       104\n",
      "weighted avg       0.96      0.96      0.96       104\n",
      "\n"
     ]
    }
   ],
   "source": [
    "if __name__ == '__main__':\n",
    "\n",
    "    my_tree = build_tree(sydney_train)\n",
    "\n",
    "    #print_tree(my_tree)\n",
    "\n",
    "    # Evaluate\n",
    "    # test_dummy = [\n",
    "    #     ['Green', 3, 'Apple'],\n",
    "    #     ['Yellow', 4, 'Apple'],\n",
    "    #     ['Red', 2, 'Grape'],\n",
    "    #     ['Red', 1, 'Grape'],\n",
    "    #     ['Yellow', 3, 'Lemon'],\n",
    "    # ]\n",
    "    predicted= []\n",
    "    actual = []\n",
    "    for row in sydney_test:\n",
    "        most_probable = print_leaf(classify(row, my_tree))\n",
    "        predicted += [next(iter(most_probable))]\n",
    "        actual += [row[-1]]\n",
    "        print(\"Actual: %s. Predicted: %s\" %(row[-1], print_leaf(classify(row, my_tree))))\n",
    "    print(classification_report(actual, predicted))"
   ]
  },
  {
   "cell_type": "code",
   "execution_count": null,
   "metadata": {
    "id": "ThzOxFcB0tXI"
   },
   "outputs": [],
   "source": []
  },
  {
   "cell_type": "code",
   "execution_count": null,
   "metadata": {
    "id": "pvGBHpC90tZc"
   },
   "outputs": [],
   "source": []
  },
  {
   "cell_type": "code",
   "execution_count": null,
   "metadata": {
    "id": "070kw1WD0ifb"
   },
   "outputs": [],
   "source": []
  }
 ],
 "metadata": {
  "colab": {
   "name": "Untitled10.ipynb",
   "provenance": []
  },
  "kernelspec": {
   "display_name": "Python 3",
   "language": "python",
   "name": "python3"
  },
  "language_info": {
   "codemirror_mode": {
    "name": "ipython",
    "version": 3
   },
   "file_extension": ".py",
   "mimetype": "text/x-python",
   "name": "python",
   "nbconvert_exporter": "python",
   "pygments_lexer": "ipython3",
   "version": "3.8.3"
  }
 },
 "nbformat": 4,
 "nbformat_minor": 4
}
