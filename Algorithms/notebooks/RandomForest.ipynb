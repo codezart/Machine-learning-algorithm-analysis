{
  "nbformat": 4,
  "nbformat_minor": 0,
  "metadata": {
    "kernelspec": {
      "display_name": "Python 3",
      "language": "python",
      "name": "python3"
    },
    "language_info": {
      "codemirror_mode": {
        "name": "ipython",
        "version": 3
      },
      "file_extension": ".py",
      "mimetype": "text/x-python",
      "name": "python",
      "nbconvert_exporter": "python",
      "pygments_lexer": "ipython3",
      "version": "3.8.3"
    },
    "colab": {
      "name": "RandomForest.ipynb",
      "provenance": [],
      "collapsed_sections": []
    }
  },
  "cells": [
    {
      "cell_type": "code",
      "metadata": {
        "id": "SJAsHnZ3t9ZL"
      },
      "source": [
        "import pandas as pd\n",
        "import numpy as np\n",
        "import random\n",
        "from sklearn.tree import DecisionTreeClassifier\n",
        "from sklearn.metrics import classification_report, confusion_matrix, accuracy_score, plot_confusion_matrix, make_scorer\n",
        "from sklearn.model_selection import train_test_split, KFold, cross_val_score\n",
        "from matplotlib import pyplot as plt"
      ],
      "execution_count": 1,
      "outputs": []
    },
    {
      "cell_type": "code",
      "metadata": {
        "id": "8KsLXt33t9ZQ"
      },
      "source": [
        "#Loading the dataset\n",
        "dataset_path = \"dataset1_sydney.csv\"\n",
        "sydney_dataset = pd.read_csv(dataset_path)\n",
        "sydney_dataset = sydney_dataset.sample(sydney_dataset.shape[0])\n",
        "\n",
        "header = sydney_train.columns"
      ],
      "execution_count": 5,
      "outputs": []
    },
    {
      "cell_type": "code",
      "metadata": {
        "id": "6cEWJ656t9ZR"
      },
      "source": [
        "def unique_vals(rows, col):\n",
        "    \"\"\"Find the unique values for a column in a dataset.\"\"\"\n",
        "    return set([row[col] for row in rows])\n",
        "\n",
        "#######\n",
        "# Demo:\n",
        "# unique_vals(training_data, 0)\n",
        "# unique_vals(training_data, 1)\n",
        "#######"
      ],
      "execution_count": 6,
      "outputs": []
    },
    {
      "cell_type": "code",
      "metadata": {
        "id": "hGFDBvuot9ZR"
      },
      "source": [
        "def class_counts(rows):\n",
        "    \"\"\"Counts the number of each type of example in a dataset.\"\"\"\n",
        "    counts = {}  # a dictionary of label -> count.\n",
        "    for row in rows:\n",
        "        # in our dataset format, the label is always the last column\n",
        "        label = row[-1]\n",
        "        if label not in counts:\n",
        "            counts[label] = 0\n",
        "        counts[label] += 1\n",
        "    return counts\n",
        "\n",
        "#######\n",
        "# Demo:\n",
        "# class_counts(training_data)\n",
        "#######"
      ],
      "execution_count": 7,
      "outputs": []
    },
    {
      "cell_type": "code",
      "metadata": {
        "id": "JJpbkixEt9ZR"
      },
      "source": [
        "def is_numeric(value):\n",
        "    \"\"\"Test if a value is numeric.\"\"\"\n",
        "    return isinstance(value, int) or isinstance(value, float)\n",
        "\n",
        "#######\n",
        "# Demo:\n",
        "# print(is_numeric(7), is_numeric(\"Red\"))\n",
        "# \n",
        "#######"
      ],
      "execution_count": 8,
      "outputs": []
    },
    {
      "cell_type": "code",
      "metadata": {
        "id": "bkh6bUSot9ZR"
      },
      "source": [
        "class Question:\n",
        "    \"\"\"A Question is used to partition a dataset.\n",
        "    This class just records a 'column number' (e.g., 0 for Color) and a\n",
        "    'column value' (e.g., Green). The 'match' method is used to compare\n",
        "    the feature value in an example to the feature value stored in the\n",
        "    question. See the demo below.\n",
        "    \"\"\"\n",
        "\n",
        "    def __init__(self, column, value):\n",
        "        self.column = column \n",
        "        self.value = value \n",
        "    def match(self, example):\n",
        "        # Compare the feature value in an example to the\n",
        "        # feature value in this question.\n",
        "        val = example[self.column] #example[1]\n",
        "        if is_numeric(val):\n",
        "            return val >= self.value\n",
        "        else:\n",
        "            return val == self.value\n",
        "\n",
        "    def __repr__(self):\n",
        "        # This is just a helper method to print\n",
        "        # the question in a readable format.\n",
        "        condition = \"==\"\n",
        "        if is_numeric(self.value):\n",
        "            condition = \">\"\n",
        "        return \"Is %s %s %s?\" % (\n",
        "            header[self.column], condition, str(self.value))\n",
        "#######\n",
        "# Demo:\n",
        "# Let's write a question for a numeric attribute\n",
        "# Question(1, 3)\n",
        "# # How about one for a categorical attribute\n",
        "# q = Question(0, 'Green')\n",
        "# # Let's pick an example from the training set...\n",
        "# example = training_data[0]\n",
        "# # ... and see if it matches the question\n",
        "# q.match(example)\n",
        "# q.__repr__()\n",
        "#######"
      ],
      "execution_count": 9,
      "outputs": []
    },
    {
      "cell_type": "code",
      "metadata": {
        "id": "0Cwz23cft9ZS"
      },
      "source": [
        "def partition(rows, question):\n",
        "    \"\"\"Partitions a dataset.\n",
        "    For each row in the dataset, check if it matches the question. If\n",
        "    so, add it to 'true rows', otherwise, add it to 'false rows'.\n",
        "    \"\"\"\n",
        "    true_rows, false_rows = [], []\n",
        "    for row in rows:\n",
        "        if question.match(row):\n",
        "            true_rows.append(row)\n",
        "        else:\n",
        "            false_rows.append(row)\n",
        "    return true_rows, false_rows"
      ],
      "execution_count": 10,
      "outputs": []
    },
    {
      "cell_type": "code",
      "metadata": {
        "id": "gyhiPG5ht9ZS"
      },
      "source": [
        "def gini(rows):\n",
        "    \"\"\"Calculate the Gini Impurity for a list of rows.\n",
        "    There are a few different ways to do this, I thought this one was\n",
        "    the most concise. See:\n",
        "    https://en.wikipedia.org/wiki/Decision_tree_learning#Gini_impurity\n",
        "    \"\"\"\n",
        "    counts = class_counts(rows)\n",
        "    impurity = 1\n",
        "    for label in counts:\n",
        "        prob_of_label = counts[label] / float(len(rows))\n",
        "        impurity -= prob_of_label**2\n",
        "    return impurity\n"
      ],
      "execution_count": 11,
      "outputs": []
    },
    {
      "cell_type": "code",
      "metadata": {
        "id": "OWtJjcNmt9ZS"
      },
      "source": [
        "def info_gain(left, right, current_uncertainty):\n",
        "    \"\"\"Information Gain.\n",
        "    The uncertainty of the starting node, minus the weighted impurity of\n",
        "    two child nodes.\n",
        "    \"\"\"\n",
        "    p = float(len(left)) / (len(left) + len(right))\n",
        "    return current_uncertainty - p * gini(left) - (1 - p) * gini(right)"
      ],
      "execution_count": 12,
      "outputs": []
    },
    {
      "cell_type": "code",
      "metadata": {
        "id": "8PUPJ8Ont9ZS"
      },
      "source": [
        "def find_best_split(rows, random_subspace):\n",
        "    \"\"\"Find the best question to ask by iterating over every feature / value\n",
        "    and calculating the information gain.\"\"\"\n",
        "    best_gain = 0  # keep track of the best information gain\n",
        "    best_question = None  # keep train of the feature / value that produced it\n",
        "    current_uncertainty = gini(rows)\n",
        "    column_indices = list(range(len(rows[0]) - 1))  # number of columns\n",
        "    \n",
        "    if random_subspace and random_subspace <= len(column_indices):\n",
        "        column_indices = random.sample(population = column_indices, k = random_subspace)\n",
        "    \n",
        "    for col in column_indices:  # for each feature\n",
        "\n",
        "        values = set([row[col] for row in rows])  # unique values in the column\n",
        "\n",
        "        for val in values:  # for each value\n",
        "\n",
        "            question = Question(col, val)\n",
        "\n",
        "            # try splitting the dataset\n",
        "            true_rows, false_rows = partition(rows, question)\n",
        "\n",
        "            # Skip this split if it doesn't divide the\n",
        "            # dataset.\n",
        "            if len(true_rows) == 0 or len(false_rows) == 0:\n",
        "                continue\n",
        "\n",
        "            # Calculate the information gain from this split\n",
        "            gain = info_gain(true_rows, false_rows, current_uncertainty)\n",
        "\n",
        "            # You actually can use '>' instead of '>=' here\n",
        "            # but I wanted the tree to look a certain way for our\n",
        "            # toy dataset.\n",
        "            if gain >= best_gain:\n",
        "                best_gain, best_question = gain, question\n",
        "\n",
        "    return best_gain, best_question"
      ],
      "execution_count": 13,
      "outputs": []
    },
    {
      "cell_type": "code",
      "metadata": {
        "id": "hAuXWbgZt9ZU"
      },
      "source": [
        "class Leaf:\n",
        "    \"\"\"A Leaf node classifies data.\n",
        "    This holds a dictionary of class (e.g., \"Apple\") -> number of times\n",
        "    it appears in the rows from the training data that reach this leaf.\n",
        "    \"\"\"\n",
        "\n",
        "    def __init__(self, rows):\n",
        "        self.predictions = class_counts(rows)\n"
      ],
      "execution_count": 15,
      "outputs": []
    },
    {
      "cell_type": "code",
      "metadata": {
        "id": "BONjGzBEt9ZU"
      },
      "source": [
        "class Decision_Node:\n",
        "    \"\"\"A Decision Node asks a question.\n",
        "    This holds a reference to the question, and to the two child nodes.\n",
        "    \"\"\"\n",
        "\n",
        "    def __init__(self,\n",
        "                 question,\n",
        "                 true_branch,\n",
        "                 false_branch):\n",
        "        self.question = question\n",
        "        self.true_branch = true_branch\n",
        "        self.false_branch = false_branch"
      ],
      "execution_count": 16,
      "outputs": []
    },
    {
      "cell_type": "code",
      "metadata": {
        "id": "zy37c5Npt9ZU"
      },
      "source": [
        "def build_tree(rows, random_subspace):\n",
        "    \"\"\"Builds the tree.\n",
        "    Rules of recursion: 1) Believe that it works. 2) Start by checking\n",
        "    for the base case (no further information gain). 3) Prepare for\n",
        "    giant stack traces.\n",
        "    \"\"\"\n",
        "\n",
        "    # Try partitioing the dataset on each of the unique attribute,\n",
        "    # calculate the information gain,\n",
        "    # and return the question that produces the highest gain.\n",
        "    gain, question = find_best_split(rows,random_subspace)\n",
        "    # Base case: no further info gain\n",
        "    # Since we can ask no further questions,\n",
        "    # we'll return a leaf.\n",
        "    if gain == 0:\n",
        "        return Leaf(rows)\n",
        "\n",
        "    # If we reach here, we have found a useful feature / value\n",
        "    # to partition on.\n",
        "    true_rows, false_rows = partition(rows, question)\n",
        "\n",
        "    # Recursively build the true branch.\n",
        "    true_branch = build_tree(true_rows, random_subspace)\n",
        "\n",
        "    # Recursively build the false branch.\n",
        "    false_branch = build_tree(false_rows, random_subspace)\n",
        "\n",
        "    # Return a Question node.\n",
        "    # This records the best feature / value to ask at this point,\n",
        "    # as well as the branches to follow\n",
        "    # dependingo on the answer.\n",
        "    return Decision_Node(question, true_branch, false_branch)"
      ],
      "execution_count": 17,
      "outputs": []
    },
    {
      "cell_type": "code",
      "metadata": {
        "id": "UYHuBXCNt9ZV"
      },
      "source": [
        "def print_tree(node, spacing=\"\"):\n",
        "    \"\"\"World's most elegant tree printing function.\"\"\"\n",
        "\n",
        "    # Base case: we've reached a leaf\n",
        "    if isinstance(node, Leaf):\n",
        "        print (spacing + \"Predict\", node.predictions)\n",
        "        return\n",
        "\n",
        "    # Print the question at this node\n",
        "    print (spacing + str(node.question))\n",
        "\n",
        "    # Call this function recursively on the true branch\n",
        "    print (spacing + '--> True:')\n",
        "    print_tree(node.true_branch, spacing + \"  \")\n",
        "\n",
        "    # Call this function recursively on the false branch\n",
        "    print (spacing + '--> False:')\n",
        "    print_tree(node.false_branch, spacing + \"  \")"
      ],
      "execution_count": 18,
      "outputs": []
    },
    {
      "cell_type": "code",
      "metadata": {
        "id": "e9EGPSKmt9ZV"
      },
      "source": [
        "def classify(row, node):\n",
        "    \"\"\"See the 'rules of recursion' above.\"\"\"\n",
        "\n",
        "    # Base case: we've reached a leaf\n",
        "    if isinstance(node, Leaf):\n",
        "        return node.predictions\n",
        "   \n",
        "    # Decide whether to follow the true-branch or the false-branch.\n",
        "    # Compare the feature / value stored in the node,\n",
        "    # to the example we're considering.\n",
        "    if node.question.match(row):\n",
        "        return classify(row, node.true_branch)\n",
        "    else:\n",
        "        return classify(row, node.false_branch)\n"
      ],
      "execution_count": 19,
      "outputs": []
    },
    {
      "cell_type": "code",
      "metadata": {
        "id": "wW3kHv7Vt9ZV"
      },
      "source": [
        "def print_leaf(counts):\n",
        "    \"\"\"A nicer way to print the predictions at a leaf.\"\"\"\n",
        "    total = sum(counts.values()) * 1.0\n",
        "    probs = {}\n",
        "    for lbl in counts.keys():\n",
        "        probs[lbl] = str(int(counts[lbl] / total * 100)) + \"%\"\n",
        "        \n",
        "    return probs\n"
      ],
      "execution_count": 20,
      "outputs": []
    },
    {
      "cell_type": "code",
      "metadata": {
        "id": "ZQKieKIJt9ZV"
      },
      "source": [
        "def bootstrapping(dataset, num_bootstrap):\n",
        "    \"\"\"\n",
        "    Idea is to create random sample for each decision tree that we create\n",
        "    \"\"\"\n",
        "    bootstrap_indices = np.random.randint(low=0, high=len(dataset), size= num_bootstrap)\n",
        "    df_bootstrapped = dataset.iloc[bootstrap_indices]\n",
        "    return df_bootstrapped"
      ],
      "execution_count": 21,
      "outputs": []
    },
    {
      "cell_type": "code",
      "metadata": {
        "id": "pXZjDvdyt9ZW"
      },
      "source": [
        "def random_forest(dataset, n_features,n_decision_trees = 50, num_bootstrap=50):\n",
        "    forest = []\n",
        "    for i in range(n_decision_trees):\n",
        "        bootstrapped_data = bootstrapping(dataset, num_bootstrap)\n",
        "        bootstrapped_data = bootstrapped_data.to_numpy()\n",
        "        tree = build_tree(bootstrapped_data, random_subspace=n_features)\n",
        "        forest.append(tree)\n",
        "    return forest"
      ],
      "execution_count": 22,
      "outputs": []
    },
    {
      "cell_type": "code",
      "metadata": {
        "id": "BK6ub7vXt9ZW"
      },
      "source": [
        "# forest = random_forest(sydney_train, n_features = 10, n_decision_trees = 10, num_bootstrap = 500)"
      ],
      "execution_count": null,
      "outputs": []
    },
    {
      "cell_type": "code",
      "metadata": {
        "id": "81cZMzTBt9ZW"
      },
      "source": [
        "def random_forest_predictions(test_data, forest):\n",
        "    test_predictions = {}\n",
        "    test_data = test_data.to_numpy()\n",
        "    \n",
        "    for i in range(len(forest)):\n",
        "        column_name = f\"tree_{i}\"\n",
        "        predicted= []\n",
        "        actual = []\n",
        "        \n",
        "        for row in test_data:\n",
        "            most_probable = print_leaf(classify(row, forest[i]))\n",
        "            predicted += [next(iter(most_probable))]\n",
        "            actual += [row[-1]]\n",
        "        test_predictions[column_name] = predicted\n",
        "\n",
        "        \n",
        "    test_predictions = pd.DataFrame(test_predictions)\n",
        "    print(test_predictions)\n",
        "    random_forest_predictions = test_predictions.mode(axis=1)[0]\n",
        "    \n",
        "    return random_forest_predictions, actual"
      ],
      "execution_count": 23,
      "outputs": []
    },
    {
      "cell_type": "code",
      "metadata": {
        "id": "z9vvXN9HyfYy"
      },
      "source": [
        "def get_overall_cm(df):\r\n",
        "    classes = df['target'].nunique()\r\n",
        "    if classes < 2:\r\n",
        "        classes = 2\r\n",
        "    overall_cm = []\r\n",
        "    for i in range(classes):\r\n",
        "        overall_cm.append( [0] * classes)\r\n",
        "    return overall_cm"
      ],
      "execution_count": 25,
      "outputs": []
    },
    {
      "cell_type": "code",
      "metadata": {
        "colab": {
          "base_uri": "https://localhost:8080/"
        },
        "id": "hrbCAO3Wt9ZW",
        "outputId": "2960c36e-f95e-4ad5-c9e2-6acfd35926b8"
      },
      "source": [
        "from sklearn.metrics import confusion_matrix\r\n",
        "\r\n",
        "def Kfold(df,n_folds, test_size, overall_cm):\r\n",
        "    # Iterate through all folds\r\n",
        "    print(\"THIS IS I, HELLO\", n_folds)\r\n",
        "    for i in range(n_folds):\r\n",
        "        #split test and train\r\n",
        "        test = df.iloc[test_size * i : test_size*i+test_size]\r\n",
        "        \r\n",
        "        train = df.iloc[test_size:]\r\n",
        "\r\n",
        "        forest = random_forest(train, n_features = 10, n_decision_trees = 10, num_bootstrap = 500)\r\n",
        "\r\n",
        "        predicted, actual = random_forest_predictions(test, forest)\r\n",
        "        print(classification_report(predicted, actual))\r\n",
        "        # generate and append cm \r\n",
        "        overall_cm = overall_cm + confusion_matrix(actual, predicted)\r\n",
        "    return overall_cm\r\n",
        "\r\n",
        "if __name__ == \"__main__\":\r\n",
        "    # KFOLD take in n folds and the size of dataset\r\n",
        "    \r\n",
        "    # DATASET1 SYDNEY\r\n",
        "    n_folds = 2\r\n",
        "    test_size = int(sydney_dataset.shape[0]/n_folds)\r\n",
        "\r\n",
        "    # get overall cm returns a Confusion matrix with 0's shape depends on (classes)\r\n",
        "    print(Kfold(sydney_dataset,n_folds, test_size, get_overall_cm(sydney_dataset)))"
      ],
      "execution_count": 33,
      "outputs": [
        {
          "output_type": "stream",
          "text": [
            "THIS IS I, HELLO 2\n",
            "         tree_0      tree_1      tree_2  ...      tree_7      tree_8      tree_9\n",
            "0        spiral      spiral      spiral  ...      spiral      spiral      spiral\n",
            "1    elliptical  elliptical  elliptical  ...  elliptical  elliptical  elliptical\n",
            "2    elliptical  elliptical  elliptical  ...  elliptical  elliptical  elliptical\n",
            "3        spiral      spiral      spiral  ...      spiral  elliptical      spiral\n",
            "4    elliptical  elliptical  elliptical  ...  elliptical  elliptical  elliptical\n",
            "..          ...         ...         ...  ...         ...         ...         ...\n",
            "255  elliptical  elliptical  elliptical  ...  elliptical  elliptical  elliptical\n",
            "256      spiral      spiral      spiral  ...      spiral      spiral      spiral\n",
            "257      spiral      spiral      spiral  ...      spiral      spiral      spiral\n",
            "258  elliptical  elliptical  elliptical  ...  elliptical  elliptical  elliptical\n",
            "259      spiral      spiral      spiral  ...      spiral      spiral      spiral\n",
            "\n",
            "[260 rows x 10 columns]\n",
            "              precision    recall  f1-score   support\n",
            "\n",
            "  elliptical       0.98      0.98      0.98       129\n",
            "      spiral       0.98      0.98      0.98       131\n",
            "\n",
            "    accuracy                           0.98       260\n",
            "   macro avg       0.98      0.98      0.98       260\n",
            "weighted avg       0.98      0.98      0.98       260\n",
            "\n",
            "         tree_0      tree_1      tree_2  ...      tree_7      tree_8      tree_9\n",
            "0    elliptical  elliptical  elliptical  ...  elliptical  elliptical  elliptical\n",
            "1    elliptical  elliptical  elliptical  ...  elliptical  elliptical  elliptical\n",
            "2        spiral      spiral      spiral  ...      spiral      spiral      spiral\n",
            "3        spiral      spiral      spiral  ...      spiral      spiral      spiral\n",
            "4    elliptical  elliptical  elliptical  ...  elliptical  elliptical  elliptical\n",
            "..          ...         ...         ...  ...         ...         ...         ...\n",
            "255      spiral      spiral      spiral  ...      spiral      spiral      spiral\n",
            "256  elliptical  elliptical  elliptical  ...  elliptical  elliptical  elliptical\n",
            "257  elliptical  elliptical  elliptical  ...  elliptical  elliptical  elliptical\n",
            "258  elliptical  elliptical  elliptical  ...  elliptical  elliptical  elliptical\n",
            "259      spiral      spiral      spiral  ...      spiral      spiral      spiral\n",
            "\n",
            "[260 rows x 10 columns]\n",
            "              precision    recall  f1-score   support\n",
            "\n",
            "  elliptical       1.00      1.00      1.00       130\n",
            "      spiral       1.00      1.00      1.00       130\n",
            "\n",
            "    accuracy                           1.00       260\n",
            "   macro avg       1.00      1.00      1.00       260\n",
            "weighted avg       1.00      1.00      1.00       260\n",
            "\n",
            "[[257   3]\n",
            " [  2 258]]\n"
          ],
          "name": "stdout"
        }
      ]
    }
  ]
}