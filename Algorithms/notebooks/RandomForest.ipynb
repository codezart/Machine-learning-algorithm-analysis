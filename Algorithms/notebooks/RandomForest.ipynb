{
 "cells": [
  {
   "cell_type": "code",
   "execution_count": 36,
   "metadata": {
    "id": "SJAsHnZ3t9ZL"
   },
   "outputs": [],
   "source": [
    "import pandas as pd\n",
    "import numpy as np\n",
    "import random\n",
    "from sklearn.tree import DecisionTreeClassifier\n",
    "from sklearn.metrics import classification_report, confusion_matrix, accuracy_score, plot_confusion_matrix, make_scorer\n",
    "from sklearn.model_selection import train_test_split, KFold, cross_val_score\n",
    "from matplotlib import pyplot as plt"
   ]
  },
  {
   "cell_type": "markdown",
   "metadata": {},
   "source": [
    "# Read Data"
   ]
  },
  {
   "cell_type": "code",
   "execution_count": 37,
   "metadata": {
    "id": "8KsLXt33t9ZQ"
   },
   "outputs": [],
   "source": [
    "# GALAXY DATASET\n",
    "def DatasetGALAXY():\n",
    "    df = pd.read_csv('../../Data/galaxymorphology/dataset1_sydney.csv')\n",
    "#    df.head()\n",
    "#    df['target'].value_counts()\n",
    "#     mapping = {\n",
    "#         'elliptical': 0,\n",
    "#         'spiral':1\n",
    "#     }\n",
    "#     df['target'] = df['target'].map(mapping)\n",
    "    df = df.sample(df.shape[0])\n",
    "    return df\n",
    "\n",
    "df = DatasetGALAXY()\n",
    "header = df.columns"
   ]
  },
  {
   "cell_type": "code",
   "execution_count": 38,
   "metadata": {},
   "outputs": [],
   "source": [
    "#CAR DATASET\n",
    "def DatasetCAR():\n",
    "    df = pd.read_csv('../../Data/dataset1-car/car_dataset.csv')\n",
    "    \n",
    "#     df['buying'].replace(['vhigh', 'high', 'med', 'low'],[3,2,1,0], inplace = True)\n",
    "#     df['maintenance'].replace(['vhigh', 'high', 'med', 'low'],[3,2,1,0], inplace = True)\n",
    "#     df['doors'].replace(['2', '3', '4', '5more'],[2,3,4,5], inplace = True)\n",
    "#     df['persons'].replace(['2', '4', 'more'],[2,4,5], inplace = True)\n",
    "#     df['lug_boot'].replace(['small', 'med', 'big'],[1,2,3], inplace = True)\n",
    "#     df['safety'].replace(['high', 'med', 'low'],[3,2,1], inplace = True)\n",
    "#     df['target'].replace(['unacc', 'acc', 'good', 'vgood'],[0,1,2,3], inplace = True)\n",
    "    df= df[df.target !=3]\n",
    "    df= df[df.target !=2]\n",
    "    df = df.sample(df.shape[0])\n",
    "    return df\n",
    "\n",
    "df = DatasetCAR()\n",
    "header = df.columns"
   ]
  },
  {
   "cell_type": "code",
   "execution_count": 39,
   "metadata": {},
   "outputs": [],
   "source": [
    "#IRIS DATASET\n",
    "def DatasetIRIS():\n",
    "    df = pd.read_csv('../../Data/iris/iris.data')\n",
    "    df['target'].replace(['Iris-setosa', 'Iris-versicolor', 'Iris-virginica'],[0,1,2], inplace = True)\n",
    "    df = df.sample(df.shape[0])\n",
    "    return df\n",
    "df = DatasetIRIS()\n",
    "header = df.columns"
   ]
  },
  {
   "cell_type": "code",
   "execution_count": 40,
   "metadata": {},
   "outputs": [],
   "source": [
    "#TITANIC DATASET\n",
    "def DatasetTITANIC():\n",
    "    df = pd.read_csv('../../Data/Titanic/train.csv')\n",
    "    df.drop(columns = [ 'Cabin','Embarked', 'Ticket','Name','PassengerId'], inplace=True)\n",
    "    df['Sex'].replace(['male', 'female'],[0,1], inplace = True)\n",
    "    df =df.dropna()\n",
    "    \n",
    "    return df\n",
    "df = DatasetTITANIC()\n",
    "header = df.columns"
   ]
  },
  {
   "cell_type": "code",
   "execution_count": 41,
   "metadata": {},
   "outputs": [
    {
     "data": {
      "text/html": [
       "<div>\n",
       "<style scoped>\n",
       "    .dataframe tbody tr th:only-of-type {\n",
       "        vertical-align: middle;\n",
       "    }\n",
       "\n",
       "    .dataframe tbody tr th {\n",
       "        vertical-align: top;\n",
       "    }\n",
       "\n",
       "    .dataframe thead th {\n",
       "        text-align: right;\n",
       "    }\n",
       "</style>\n",
       "<table border=\"1\" class=\"dataframe\">\n",
       "  <thead>\n",
       "    <tr style=\"text-align: right;\">\n",
       "      <th></th>\n",
       "      <th>Pclass</th>\n",
       "      <th>Sex</th>\n",
       "      <th>Age</th>\n",
       "      <th>SibSp</th>\n",
       "      <th>Parch</th>\n",
       "      <th>Fare</th>\n",
       "      <th>target</th>\n",
       "    </tr>\n",
       "  </thead>\n",
       "  <tbody>\n",
       "    <tr>\n",
       "      <th>0</th>\n",
       "      <td>3</td>\n",
       "      <td>0</td>\n",
       "      <td>22.0</td>\n",
       "      <td>1</td>\n",
       "      <td>0</td>\n",
       "      <td>7.2500</td>\n",
       "      <td>0</td>\n",
       "    </tr>\n",
       "    <tr>\n",
       "      <th>1</th>\n",
       "      <td>1</td>\n",
       "      <td>1</td>\n",
       "      <td>38.0</td>\n",
       "      <td>1</td>\n",
       "      <td>0</td>\n",
       "      <td>71.2833</td>\n",
       "      <td>1</td>\n",
       "    </tr>\n",
       "    <tr>\n",
       "      <th>2</th>\n",
       "      <td>3</td>\n",
       "      <td>1</td>\n",
       "      <td>26.0</td>\n",
       "      <td>0</td>\n",
       "      <td>0</td>\n",
       "      <td>7.9250</td>\n",
       "      <td>1</td>\n",
       "    </tr>\n",
       "    <tr>\n",
       "      <th>3</th>\n",
       "      <td>1</td>\n",
       "      <td>1</td>\n",
       "      <td>35.0</td>\n",
       "      <td>1</td>\n",
       "      <td>0</td>\n",
       "      <td>53.1000</td>\n",
       "      <td>1</td>\n",
       "    </tr>\n",
       "    <tr>\n",
       "      <th>4</th>\n",
       "      <td>3</td>\n",
       "      <td>0</td>\n",
       "      <td>35.0</td>\n",
       "      <td>0</td>\n",
       "      <td>0</td>\n",
       "      <td>8.0500</td>\n",
       "      <td>0</td>\n",
       "    </tr>\n",
       "    <tr>\n",
       "      <th>...</th>\n",
       "      <td>...</td>\n",
       "      <td>...</td>\n",
       "      <td>...</td>\n",
       "      <td>...</td>\n",
       "      <td>...</td>\n",
       "      <td>...</td>\n",
       "      <td>...</td>\n",
       "    </tr>\n",
       "    <tr>\n",
       "      <th>1300</th>\n",
       "      <td>3</td>\n",
       "      <td>1</td>\n",
       "      <td>3.0</td>\n",
       "      <td>1</td>\n",
       "      <td>1</td>\n",
       "      <td>13.7750</td>\n",
       "      <td>0</td>\n",
       "    </tr>\n",
       "    <tr>\n",
       "      <th>1302</th>\n",
       "      <td>1</td>\n",
       "      <td>1</td>\n",
       "      <td>37.0</td>\n",
       "      <td>1</td>\n",
       "      <td>0</td>\n",
       "      <td>90.0000</td>\n",
       "      <td>1</td>\n",
       "    </tr>\n",
       "    <tr>\n",
       "      <th>1303</th>\n",
       "      <td>3</td>\n",
       "      <td>1</td>\n",
       "      <td>28.0</td>\n",
       "      <td>0</td>\n",
       "      <td>0</td>\n",
       "      <td>7.7750</td>\n",
       "      <td>0</td>\n",
       "    </tr>\n",
       "    <tr>\n",
       "      <th>1305</th>\n",
       "      <td>1</td>\n",
       "      <td>1</td>\n",
       "      <td>39.0</td>\n",
       "      <td>0</td>\n",
       "      <td>0</td>\n",
       "      <td>108.9000</td>\n",
       "      <td>1</td>\n",
       "    </tr>\n",
       "    <tr>\n",
       "      <th>1306</th>\n",
       "      <td>3</td>\n",
       "      <td>0</td>\n",
       "      <td>38.5</td>\n",
       "      <td>0</td>\n",
       "      <td>0</td>\n",
       "      <td>7.2500</td>\n",
       "      <td>0</td>\n",
       "    </tr>\n",
       "  </tbody>\n",
       "</table>\n",
       "<p>1045 rows × 7 columns</p>\n",
       "</div>"
      ],
      "text/plain": [
       "      Pclass  Sex   Age  SibSp  Parch      Fare  target\n",
       "0          3    0  22.0      1      0    7.2500       0\n",
       "1          1    1  38.0      1      0   71.2833       1\n",
       "2          3    1  26.0      0      0    7.9250       1\n",
       "3          1    1  35.0      1      0   53.1000       1\n",
       "4          3    0  35.0      0      0    8.0500       0\n",
       "...      ...  ...   ...    ...    ...       ...     ...\n",
       "1300       3    1   3.0      1      1   13.7750       0\n",
       "1302       1    1  37.0      1      0   90.0000       1\n",
       "1303       3    1  28.0      0      0    7.7750       0\n",
       "1305       1    1  39.0      0      0  108.9000       1\n",
       "1306       3    0  38.5      0      0    7.2500       0\n",
       "\n",
       "[1045 rows x 7 columns]"
      ]
     },
     "execution_count": 41,
     "metadata": {},
     "output_type": "execute_result"
    }
   ],
   "source": [
    "df"
   ]
  },
  {
   "cell_type": "markdown",
   "metadata": {},
   "source": [
    "# Random Forest"
   ]
  },
  {
   "cell_type": "code",
   "execution_count": 42,
   "metadata": {
    "id": "6cEWJ656t9ZR"
   },
   "outputs": [],
   "source": [
    "def unique_vals(rows, col):\n",
    "    \"\"\"Find the unique values for a column in a dataset.\"\"\"\n",
    "    return set([row[col] for row in rows])\n"
   ]
  },
  {
   "cell_type": "code",
   "execution_count": 43,
   "metadata": {
    "id": "hGFDBvuot9ZR"
   },
   "outputs": [],
   "source": [
    "def class_counts(rows):\n",
    "    \"\"\"Counts the number of each type of example in a dataset.\"\"\"\n",
    "    counts = {}  # a dictionary of label -> count.\n",
    "    for row in rows:\n",
    "        # in our dataset format, the label is always the last column\n",
    "        label = row[-1]\n",
    "        if label not in counts:\n",
    "            counts[label] = 0\n",
    "        counts[label] += 1\n",
    "    return counts\n"
   ]
  },
  {
   "cell_type": "code",
   "execution_count": 44,
   "metadata": {
    "id": "JJpbkixEt9ZR"
   },
   "outputs": [],
   "source": [
    "def is_numeric(value):\n",
    "    \"\"\"Test if a value is numeric.\"\"\"\n",
    "    return isinstance(value, int) or isinstance(value, float)\n"
   ]
  },
  {
   "cell_type": "code",
   "execution_count": 45,
   "metadata": {
    "id": "bkh6bUSot9ZR"
   },
   "outputs": [],
   "source": [
    "class Question:\n",
    "    \"\"\"A Question is used to partition a dataset.\n",
    "    This class just records a 'column number' (e.g., 0 for Color) and a\n",
    "    'column value' (e.g., Green). The 'match' method is used to compare\n",
    "    the feature value in an example to the feature value stored in the\n",
    "    question. See the demo below.\n",
    "    \"\"\"\n",
    "\n",
    "    def __init__(self, column, value):\n",
    "        self.column = column \n",
    "        self.value = value \n",
    "    def match(self, example):\n",
    "        # Compare the feature value in an example to the\n",
    "        # feature value in this question.\n",
    "        val = example[self.column] #example[1]\n",
    "        if is_numeric(val):\n",
    "            return val >= self.value\n",
    "        else:\n",
    "            return val == self.value\n",
    "\n",
    "    def __repr__(self):\n",
    "        # This is just a helper method to print\n",
    "        # the question in a readable format.\n",
    "        condition = \"==\"\n",
    "        if is_numeric(self.value):\n",
    "            condition = \">\"\n",
    "        return \"Is %s %s %s?\" % (\n",
    "            header[self.column], condition, str(self.value))\n"
   ]
  },
  {
   "cell_type": "code",
   "execution_count": 46,
   "metadata": {
    "id": "0Cwz23cft9ZS"
   },
   "outputs": [],
   "source": [
    "def partition(rows, question):\n",
    "    \"\"\"Partitions a dataset.\n",
    "    For each row in the dataset, check if it matches the question. If\n",
    "    so, add it to 'true rows', otherwise, add it to 'false rows'.\n",
    "    \"\"\"\n",
    "    true_rows, false_rows = [], []\n",
    "    for row in rows:\n",
    "        if question.match(row):\n",
    "            true_rows.append(row)\n",
    "        else:\n",
    "            false_rows.append(row)\n",
    "    return true_rows, false_rows"
   ]
  },
  {
   "cell_type": "code",
   "execution_count": 47,
   "metadata": {
    "id": "gyhiPG5ht9ZS"
   },
   "outputs": [],
   "source": [
    "def gini(rows):\n",
    "    \"\"\"Calculate the Gini Impurity for a list of rows.\n",
    "    There are a few different ways to do this.\n",
    "    https://en.wikipedia.org/wiki/Decision_tree_learning#Gini_impurity\n",
    "    \"\"\"\n",
    "    counts = class_counts(rows)\n",
    "    impurity = 1\n",
    "    for label in counts:\n",
    "        prob_of_label = counts[label] / float(len(rows))\n",
    "        impurity -= prob_of_label**2\n",
    "    return impurity\n"
   ]
  },
  {
   "cell_type": "code",
   "execution_count": 48,
   "metadata": {
    "id": "OWtJjcNmt9ZS"
   },
   "outputs": [],
   "source": [
    "def info_gain(left, right, current_uncertainty):\n",
    "    \"\"\"Information Gain.\n",
    "    The uncertainty of the starting node, minus the weighted impurity of\n",
    "    two child nodes.\n",
    "    \"\"\"\n",
    "    p = float(len(left)) / (len(left) + len(right))\n",
    "    return current_uncertainty - p * gini(left) - (1 - p) * gini(right)"
   ]
  },
  {
   "cell_type": "code",
   "execution_count": 49,
   "metadata": {
    "id": "8PUPJ8Ont9ZS"
   },
   "outputs": [],
   "source": [
    "def find_best_split(rows, random_subspace):\n",
    "    \"\"\"Find the best question to ask by iterating over every feature / value\n",
    "    and calculating the information gain.\"\"\"\n",
    "    best_gain = 0  # keep track of the best information gain\n",
    "    best_question = None  # keep train of the feature / value that produced it\n",
    "    current_uncertainty = gini(rows)\n",
    "    column_indices = list(range(len(rows[0]) - 1))  # number of columns\n",
    "    \n",
    "    if random_subspace and random_subspace <= len(column_indices):\n",
    "        column_indices = random.sample(population = column_indices, k = random_subspace)\n",
    "    \n",
    "    for col in column_indices:  # for each feature\n",
    "\n",
    "        values = set([row[col] for row in rows])  # unique values in the column\n",
    "\n",
    "        for val in values:  # for each value\n",
    "\n",
    "            question = Question(col, val)\n",
    "\n",
    "            # try splitting the dataset\n",
    "            true_rows, false_rows = partition(rows, question)\n",
    "\n",
    "            # Skip this split if it doesn't divide the\n",
    "            # dataset.\n",
    "            if len(true_rows) == 0 or len(false_rows) == 0:\n",
    "                continue\n",
    "\n",
    "            # Calculate the information gain from this split\n",
    "            gain = info_gain(true_rows, false_rows, current_uncertainty)\n",
    "\n",
    "            # You actually can use '>' instead of '>=' here\n",
    "            # but I wanted the tree to look a certain way for our\n",
    "            # toy dataset.\n",
    "            if gain >= best_gain:\n",
    "                best_gain, best_question = gain, question\n",
    "\n",
    "    return best_gain, best_question"
   ]
  },
  {
   "cell_type": "code",
   "execution_count": 50,
   "metadata": {
    "id": "hAuXWbgZt9ZU"
   },
   "outputs": [],
   "source": [
    "class Leaf:\n",
    "    \"\"\"A Leaf node classifies data.\n",
    "    This holds a dictionary of class -> number of times\n",
    "    it appears in the rows from the training data that reach this leaf.\n",
    "    \"\"\"\n",
    "\n",
    "    def __init__(self, rows):\n",
    "        self.predictions = class_counts(rows)\n"
   ]
  },
  {
   "cell_type": "code",
   "execution_count": 51,
   "metadata": {
    "id": "BONjGzBEt9ZU"
   },
   "outputs": [],
   "source": [
    "class Decision_Node:\n",
    "    \"\"\"A Decision Node asks a question.\n",
    "    This holds a reference to the question, and to the two child nodes.\n",
    "    \"\"\"\n",
    "\n",
    "    def __init__(self,\n",
    "                 question,\n",
    "                 true_branch,\n",
    "                 false_branch):\n",
    "        self.question = question\n",
    "        self.true_branch = true_branch\n",
    "        self.false_branch = false_branch"
   ]
  },
  {
   "cell_type": "code",
   "execution_count": 52,
   "metadata": {
    "id": "zy37c5Npt9ZU"
   },
   "outputs": [],
   "source": [
    "def build_tree(rows, random_subspace):\n",
    "    \"\"\"Builds the tree.\n",
    "    \"\"\"\n",
    "\n",
    "    # Try partitioing the dataset on each of the unique attribute,\n",
    "    # calculate the information gain,\n",
    "    # and return the question that produces the highest gain.\n",
    "    gain, question = find_best_split(rows,random_subspace)\n",
    "    # Base case: no further info gain\n",
    "    # Since we can ask no further questions,\n",
    "    # we'll return a leaf.\n",
    "    if gain == 0:\n",
    "        return Leaf(rows)\n",
    "\n",
    "    # If we reach here, we have found a useful feature / value\n",
    "    # to partition on.\n",
    "    true_rows, false_rows = partition(rows, question)\n",
    "\n",
    "    # Recursively build the true branch.\n",
    "    true_branch = build_tree(true_rows, random_subspace)\n",
    "\n",
    "    # Recursively build the false branch.\n",
    "    false_branch = build_tree(false_rows, random_subspace)\n",
    "\n",
    "    # Return a Question node.\n",
    "    # This records the best feature / value to ask at this point,\n",
    "    # as well as the branches to follow\n",
    "    # dependingo on the answer.\n",
    "    return Decision_Node(question, true_branch, false_branch)"
   ]
  },
  {
   "cell_type": "code",
   "execution_count": 53,
   "metadata": {
    "id": "UYHuBXCNt9ZV"
   },
   "outputs": [],
   "source": [
    "def print_tree(node, spacing=\"\"):\n",
    "    \"\"\"World's most elegant tree printing function.\"\"\"\n",
    "\n",
    "    # Base case: we've reached a leaf\n",
    "    if isinstance(node, Leaf):\n",
    "        print (spacing + \"Predict\", node.predictions)\n",
    "        return\n",
    "\n",
    "    # Print the question at this node\n",
    "    print (spacing + str(node.question))\n",
    "\n",
    "    # Call this function recursively on the true branch\n",
    "    print (spacing + '--> True:')\n",
    "    print_tree(node.true_branch, spacing + \"  \")\n",
    "\n",
    "    # Call this function recursively on the false branch\n",
    "    print (spacing + '--> False:')\n",
    "    print_tree(node.false_branch, spacing + \"  \")"
   ]
  },
  {
   "cell_type": "code",
   "execution_count": 54,
   "metadata": {
    "id": "e9EGPSKmt9ZV"
   },
   "outputs": [],
   "source": [
    "def classify(row, node):\n",
    "    \"\"\"See the 'rules of recursion' above.\"\"\"\n",
    "\n",
    "    # Base case: we've reached a leaf\n",
    "    if isinstance(node, Leaf):\n",
    "        return node.predictions\n",
    "   \n",
    "    # Decide whether to follow the true-branch or the false-branch.\n",
    "    # Compare the feature / value stored in the node,\n",
    "    # to the example we're considering.\n",
    "    if node.question.match(row):\n",
    "        return classify(row, node.true_branch)\n",
    "    else:\n",
    "        return classify(row, node.false_branch)\n"
   ]
  },
  {
   "cell_type": "code",
   "execution_count": 55,
   "metadata": {
    "id": "wW3kHv7Vt9ZV"
   },
   "outputs": [],
   "source": [
    "def print_leaf(counts):\n",
    "    \"\"\"print the predictions at a leaf.\"\"\"\n",
    "    total = sum(counts.values()) * 1.0\n",
    "    probs = {}\n",
    "    for lbl in counts.keys():\n",
    "        probs[lbl] = str(int(counts[lbl] / total * 100)) + \"%\"\n",
    "        \n",
    "    return probs\n"
   ]
  },
  {
   "cell_type": "code",
   "execution_count": 56,
   "metadata": {
    "id": "ZQKieKIJt9ZV"
   },
   "outputs": [],
   "source": [
    "def bootstrapping(dataset, num_bootstrap):\n",
    "    \"\"\"\n",
    "    Idea is to create random sample for each decision tree that we create\n",
    "    \"\"\"\n",
    "    bootstrap_indices = np.random.randint(low=0, high=len(dataset), size= num_bootstrap)\n",
    "    df_bootstrapped = dataset.iloc[bootstrap_indices]\n",
    "    return df_bootstrapped"
   ]
  },
  {
   "cell_type": "code",
   "execution_count": 57,
   "metadata": {
    "id": "pXZjDvdyt9ZW"
   },
   "outputs": [],
   "source": [
    "def random_forest(dataset, n_features,n_decision_trees = 50, num_bootstrap=50):\n",
    "    forest = []\n",
    "    for i in range(n_decision_trees):\n",
    "        bootstrapped_data = bootstrapping(dataset, num_bootstrap)\n",
    "        bootstrapped_data = bootstrapped_data.to_numpy()\n",
    "        tree = build_tree(bootstrapped_data, random_subspace=n_features)\n",
    "        forest.append(tree)\n",
    "    return forest"
   ]
  },
  {
   "cell_type": "code",
   "execution_count": 58,
   "metadata": {
    "id": "81cZMzTBt9ZW"
   },
   "outputs": [],
   "source": [
    "def random_forest_predictions(test_data, forest):\n",
    "    test_predictions = {}\n",
    "    test_data = test_data.to_numpy()\n",
    "    \n",
    "    for i in range(len(forest)):\n",
    "        column_name = f\"tree_{i}\"\n",
    "        predicted= []\n",
    "        actual = []\n",
    "        \n",
    "        for row in test_data:\n",
    "            most_probable = print_leaf(classify(row, forest[i]))\n",
    "            predicted += [next(iter(most_probable))]\n",
    "            actual += [row[-1]]\n",
    "        test_predictions[column_name] = predicted\n",
    "\n",
    "        \n",
    "    test_predictions = pd.DataFrame(test_predictions)\n",
    "    print(test_predictions)\n",
    "    random_forest_predictions = test_predictions.mode(axis=1)[0]\n",
    "    \n",
    "    return random_forest_predictions, actual"
   ]
  },
  {
   "cell_type": "code",
   "execution_count": 59,
   "metadata": {
    "id": "z9vvXN9HyfYy"
   },
   "outputs": [],
   "source": [
    "def get_overall_cm(df):\n",
    "    classes = df['target'].nunique()\n",
    "    if classes < 2:\n",
    "        classes = 2\n",
    "    overall_cm = []\n",
    "    for i in range(classes):\n",
    "        overall_cm.append( [0] * classes)\n",
    "    return overall_cm"
   ]
  },
  {
   "cell_type": "code",
   "execution_count": 60,
   "metadata": {
    "colab": {
     "base_uri": "https://localhost:8080/"
    },
    "id": "hrbCAO3Wt9ZW",
    "outputId": "2960c36e-f95e-4ad5-c9e2-6acfd35926b8"
   },
   "outputs": [],
   "source": [
    "from sklearn.metrics import confusion_matrix\n",
    "\n",
    "def Kfold(df,n_folds, test_size, overall_cm):\n",
    "    # Iterate through all folds\n",
    "\n",
    "    for i in range(n_folds):\n",
    "        print(\"\\n\\n\\n\\nTHIS IS FOLD:\", i)\n",
    "        #split test and train\n",
    "        test = df.iloc[test_size * i : test_size*i+test_size]\n",
    "        \n",
    "        train = df.iloc[test_size:]\n",
    "\n",
    "        forest = random_forest(train, n_features = 10, n_decision_trees = 10, num_bootstrap = 500)\n",
    "\n",
    "        predicted, actual = random_forest_predictions(test, forest)\n",
    "        print(classification_report(predicted, actual))\n",
    "        # generate and append cm \n",
    "        overall_cm = overall_cm + confusion_matrix(actual, predicted)\n",
    "    return overall_cm\n"
   ]
  },
  {
   "cell_type": "code",
   "execution_count": 61,
   "metadata": {
    "scrolled": false
   },
   "outputs": [
    {
     "name": "stdout",
     "output_type": "stream",
     "text": [
      "\n",
      "\n",
      "\n",
      "\n",
      "THIS IS FOLD: 0\n",
      "     tree_0  tree_1  tree_2  tree_3  tree_4  tree_5  tree_6  tree_7  tree_8  \\\n",
      "0       0.0     0.0     0.0     1.0     1.0     1.0     1.0     0.0     0.0   \n",
      "1       1.0     1.0     1.0     1.0     1.0     1.0     1.0     1.0     1.0   \n",
      "2       0.0     0.0     0.0     0.0     0.0     0.0     0.0     0.0     1.0   \n",
      "3       1.0     1.0     1.0     1.0     1.0     1.0     1.0     1.0     1.0   \n",
      "4       0.0     0.0     0.0     0.0     0.0     0.0     0.0     0.0     0.0   \n",
      "..      ...     ...     ...     ...     ...     ...     ...     ...     ...   \n",
      "517     0.0     0.0     0.0     0.0     0.0     0.0     0.0     1.0     0.0   \n",
      "518     0.0     1.0     1.0     1.0     0.0     0.0     1.0     0.0     1.0   \n",
      "519     0.0     0.0     0.0     0.0     0.0     0.0     0.0     0.0     0.0   \n",
      "520     0.0     0.0     0.0     0.0     0.0     0.0     0.0     0.0     0.0   \n",
      "521     0.0     0.0     0.0     1.0     0.0     0.0     0.0     0.0     0.0   \n",
      "\n",
      "     tree_9  \n",
      "0       0.0  \n",
      "1       1.0  \n",
      "2       0.0  \n",
      "3       1.0  \n",
      "4       0.0  \n",
      "..      ...  \n",
      "517     0.0  \n",
      "518     1.0  \n",
      "519     0.0  \n",
      "520     0.0  \n",
      "521     0.0  \n",
      "\n",
      "[522 rows x 10 columns]\n",
      "              precision    recall  f1-score   support\n",
      "\n",
      "         0.0       0.85      0.79      0.82       327\n",
      "         1.0       0.69      0.76      0.72       195\n",
      "\n",
      "    accuracy                           0.78       522\n",
      "   macro avg       0.77      0.78      0.77       522\n",
      "weighted avg       0.79      0.78      0.78       522\n",
      "\n",
      "\n",
      "\n",
      "\n",
      "\n",
      "THIS IS FOLD: 1\n",
      "     tree_0  tree_1  tree_2  tree_3  tree_4  tree_5  tree_6  tree_7  tree_8  \\\n",
      "0       0.0     0.0     0.0     0.0     0.0     0.0     0.0     0.0     0.0   \n",
      "1       1.0     0.0     0.0     0.0     0.0     0.0     0.0     1.0     0.0   \n",
      "2       0.0     0.0     0.0     0.0     0.0     0.0     0.0     0.0     0.0   \n",
      "3       1.0     1.0     1.0     1.0     1.0     1.0     1.0     1.0     0.0   \n",
      "4       0.0     0.0     0.0     0.0     0.0     0.0     1.0     0.0     1.0   \n",
      "..      ...     ...     ...     ...     ...     ...     ...     ...     ...   \n",
      "517     0.0     1.0     0.0     0.0     0.0     1.0     0.0     1.0     0.0   \n",
      "518     0.0     1.0     0.0     0.0     0.0     1.0     0.0     0.0     0.0   \n",
      "519     1.0     1.0     1.0     1.0     1.0     1.0     1.0     1.0     1.0   \n",
      "520     0.0     0.0     0.0     0.0     0.0     0.0     0.0     0.0     0.0   \n",
      "521     1.0     1.0     1.0     1.0     1.0     1.0     1.0     1.0     1.0   \n",
      "\n",
      "     tree_9  \n",
      "0       0.0  \n",
      "1       0.0  \n",
      "2       0.0  \n",
      "3       0.0  \n",
      "4       0.0  \n",
      "..      ...  \n",
      "517     0.0  \n",
      "518     1.0  \n",
      "519     1.0  \n",
      "520     0.0  \n",
      "521     1.0  \n",
      "\n",
      "[522 rows x 10 columns]\n",
      "              precision    recall  f1-score   support\n",
      "\n",
      "         0.0       1.00      0.96      0.98       323\n",
      "         1.0       0.94      0.99      0.97       199\n",
      "\n",
      "    accuracy                           0.97       522\n",
      "   macro avg       0.97      0.98      0.97       522\n",
      "weighted avg       0.97      0.97      0.97       522\n",
      "\n",
      "\n",
      "\n",
      "\n",
      " Confusion Matrix\n",
      "[[569  48]\n",
      " [ 81 346]]\n"
     ]
    }
   ],
   "source": [
    "\n",
    "if __name__ == \"__main__\":\n",
    "    # KFOLD take in n folds and the size of dataset\n",
    "    \n",
    "    # DATASET1 SYDNEY\n",
    "    n_folds = 2\n",
    "    test_size = int(df.shape[0]/n_folds)\n",
    "\n",
    "    # get overall cm returns a Confusion matrix with 0's shape depends on (classes)\n",
    "    rfcm = Kfold(df,n_folds, test_size, get_overall_cm(df))\n",
    "    print(f\"\\n\\n\\n Confusion Matrix\\n{rfcm}\")"
   ]
  },
  {
   "cell_type": "code",
   "execution_count": null,
   "metadata": {},
   "outputs": [],
   "source": []
  }
 ],
 "metadata": {
  "colab": {
   "collapsed_sections": [],
   "name": "RandomForest.ipynb",
   "provenance": []
  },
  "kernelspec": {
   "display_name": "Python 3",
   "language": "python",
   "name": "python3"
  },
  "language_info": {
   "codemirror_mode": {
    "name": "ipython",
    "version": 3
   },
   "file_extension": ".py",
   "mimetype": "text/x-python",
   "name": "python",
   "nbconvert_exporter": "python",
   "pygments_lexer": "ipython3",
   "version": "3.8.3"
  }
 },
 "nbformat": 4,
 "nbformat_minor": 1
}
