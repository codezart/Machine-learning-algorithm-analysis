{
 "cells": [
  {
   "cell_type": "code",
   "execution_count": 1,
   "metadata": {
    "id": "SJAsHnZ3t9ZL"
   },
   "outputs": [],
   "source": [
    "import pandas as pd\n",
    "import numpy as np\n",
    "import random\n",
    "from sklearn.tree import DecisionTreeClassifier\n",
    "from sklearn.metrics import classification_report, confusion_matrix, accuracy_score, plot_confusion_matrix, make_scorer\n",
    "from sklearn.model_selection import train_test_split, KFold, cross_val_score\n",
    "from matplotlib import pyplot as plt"
   ]
  },
  {
   "cell_type": "markdown",
   "metadata": {},
   "source": [
    "# Read Data"
   ]
  },
  {
   "cell_type": "code",
   "execution_count": 2,
   "metadata": {
    "id": "8KsLXt33t9ZQ"
   },
   "outputs": [],
   "source": [
    "# GALAXY DATASET\n",
    "def DatasetGALAXY():\n",
    "    df = pd.read_csv('../../Data/galaxymorphology/dataset1_sydney.csv')\n",
    "    df.head()\n",
    "    df['target'].value_counts()\n",
    "    mapping = {\n",
    "        'elliptical': 0,\n",
    "        'spiral':1\n",
    "    }\n",
    "    df['target'] = df['target'].map(mapping)\n",
    "    x = df.sample(df.shape[0])\n",
    "    df = x.iloc[:, :5]\n",
    "    df['target'] = x.iloc[:,-1]\n",
    "    return df\n",
    "\n",
    "df = DatasetGALAXY()\n",
    "header = df.columns"
   ]
  },
  {
   "cell_type": "code",
   "execution_count": 110,
   "metadata": {},
   "outputs": [
    {
     "name": "stdout",
     "output_type": "stream",
     "text": [
      "4\n"
     ]
    }
   ],
   "source": [
    "#CAR DATASET\n",
    "def DatasetCAR():\n",
    "    df = pd.read_csv('../../Data/dataset1-car/car_dataset.csv')\n",
    "    \n",
    "    #     df['buying'].replace(['vhigh', 'high', 'med', 'low'],[3,2,1,0], inplace = True)\n",
    "    #     df['maintenance'].replace(['vhigh', 'high', 'med', 'low'],[3,2,1,0], inplace = True)\n",
    "    #     df['doors'].replace(['2', '3', '4', '5more'],[2,3,4,5], inplace = True)\n",
    "    #     df['persons'].replace(['2', '4', 'more'],[2,4,5], inplace = True)\n",
    "    #     df['lug_boot'].replace(['small', 'med', 'big'],[1,2,3], inplace = True)\n",
    "    #     df['safety'].replace(['high', 'med', 'low'],[3,2,1], inplace = True)\n",
    "    #     df['target'].replace(['unacc', 'acc', 'good', 'vgood'],[0,1,2,3], inplace = True)\n",
    "    #     df= df[df.target !=3]\n",
    "    #     df= df[df.target !=2]\n",
    "    print(df['target'].nunique())\n",
    "    df = df.sample(df.shape[0])\n",
    "    return df\n",
    "\n",
    "df = DatasetCAR()\n",
    "header = df.columns"
   ]
  },
  {
   "cell_type": "code",
   "execution_count": 104,
   "metadata": {},
   "outputs": [],
   "source": [
    "#IRIS DATASET\n",
    "def DatasetIRIS():\n",
    "    df = pd.read_csv('../../Data/iris/iris.data')\n",
    "    df['target'].replace(['Iris-setosa', 'Iris-versicolor', 'Iris-virginica'],[0,1,2], inplace = True)\n",
    "    df = df.sample(df.shape[0])\n",
    "    return df\n",
    "df = DatasetIRIS()\n",
    "header = df.columns"
   ]
  },
  {
   "cell_type": "code",
   "execution_count": 107,
   "metadata": {},
   "outputs": [],
   "source": [
    "#TITANIC DATASET\n",
    "def DatasetTITANIC():\n",
    "    df = pd.read_csv('../../Data/Titanic/train.csv')\n",
    "    df.drop(columns = [ 'Cabin','Embarked', 'Ticket','Name','PassengerId'], inplace=True)\n",
    "    df['Sex'].replace(['male', 'female'],[0,1], inplace = True)\n",
    "    df =df.dropna()\n",
    "    \n",
    "    return df\n",
    "df = DatasetTITANIC()\n",
    "header = df.columns"
   ]
  },
  {
   "cell_type": "code",
   "execution_count": 3,
   "metadata": {},
   "outputs": [
    {
     "data": {
      "text/html": [
       "<div>\n",
       "<style scoped>\n",
       "    .dataframe tbody tr th:only-of-type {\n",
       "        vertical-align: middle;\n",
       "    }\n",
       "\n",
       "    .dataframe tbody tr th {\n",
       "        vertical-align: top;\n",
       "    }\n",
       "\n",
       "    .dataframe thead th {\n",
       "        text-align: right;\n",
       "    }\n",
       "</style>\n",
       "<table border=\"1\" class=\"dataframe\">\n",
       "  <thead>\n",
       "    <tr style=\"text-align: right;\">\n",
       "      <th></th>\n",
       "      <th>u-g</th>\n",
       "      <th>g-r</th>\n",
       "      <th>r-i</th>\n",
       "      <th>i-z</th>\n",
       "      <th>ecc</th>\n",
       "      <th>target</th>\n",
       "    </tr>\n",
       "  </thead>\n",
       "  <tbody>\n",
       "    <tr>\n",
       "      <th>459</th>\n",
       "      <td>1.31450</td>\n",
       "      <td>0.58474</td>\n",
       "      <td>0.33902</td>\n",
       "      <td>0.18575</td>\n",
       "      <td>0.910293</td>\n",
       "      <td>1</td>\n",
       "    </tr>\n",
       "    <tr>\n",
       "      <th>498</th>\n",
       "      <td>1.70491</td>\n",
       "      <td>0.84471</td>\n",
       "      <td>0.40622</td>\n",
       "      <td>0.32586</td>\n",
       "      <td>0.648506</td>\n",
       "      <td>1</td>\n",
       "    </tr>\n",
       "    <tr>\n",
       "      <th>464</th>\n",
       "      <td>1.02912</td>\n",
       "      <td>0.36241</td>\n",
       "      <td>0.24938</td>\n",
       "      <td>0.20448</td>\n",
       "      <td>0.684930</td>\n",
       "      <td>1</td>\n",
       "    </tr>\n",
       "    <tr>\n",
       "      <th>57</th>\n",
       "      <td>1.97454</td>\n",
       "      <td>0.96352</td>\n",
       "      <td>0.43336</td>\n",
       "      <td>0.34715</td>\n",
       "      <td>0.721961</td>\n",
       "      <td>0</td>\n",
       "    </tr>\n",
       "    <tr>\n",
       "      <th>495</th>\n",
       "      <td>1.20532</td>\n",
       "      <td>0.48992</td>\n",
       "      <td>0.27027</td>\n",
       "      <td>0.10746</td>\n",
       "      <td>0.600674</td>\n",
       "      <td>1</td>\n",
       "    </tr>\n",
       "    <tr>\n",
       "      <th>...</th>\n",
       "      <td>...</td>\n",
       "      <td>...</td>\n",
       "      <td>...</td>\n",
       "      <td>...</td>\n",
       "      <td>...</td>\n",
       "      <td>...</td>\n",
       "    </tr>\n",
       "    <tr>\n",
       "      <th>270</th>\n",
       "      <td>1.35120</td>\n",
       "      <td>0.58938</td>\n",
       "      <td>0.32680</td>\n",
       "      <td>0.21697</td>\n",
       "      <td>0.819921</td>\n",
       "      <td>1</td>\n",
       "    </tr>\n",
       "    <tr>\n",
       "      <th>156</th>\n",
       "      <td>1.96622</td>\n",
       "      <td>0.97002</td>\n",
       "      <td>0.43299</td>\n",
       "      <td>0.32953</td>\n",
       "      <td>0.827366</td>\n",
       "      <td>0</td>\n",
       "    </tr>\n",
       "    <tr>\n",
       "      <th>62</th>\n",
       "      <td>1.90571</td>\n",
       "      <td>0.86412</td>\n",
       "      <td>0.38059</td>\n",
       "      <td>0.31209</td>\n",
       "      <td>0.865797</td>\n",
       "      <td>0</td>\n",
       "    </tr>\n",
       "    <tr>\n",
       "      <th>143</th>\n",
       "      <td>1.98308</td>\n",
       "      <td>0.89501</td>\n",
       "      <td>0.45316</td>\n",
       "      <td>0.30961</td>\n",
       "      <td>0.876977</td>\n",
       "      <td>0</td>\n",
       "    </tr>\n",
       "    <tr>\n",
       "      <th>343</th>\n",
       "      <td>1.36583</td>\n",
       "      <td>0.79923</td>\n",
       "      <td>0.39675</td>\n",
       "      <td>0.31768</td>\n",
       "      <td>0.449928</td>\n",
       "      <td>1</td>\n",
       "    </tr>\n",
       "  </tbody>\n",
       "</table>\n",
       "<p>520 rows × 6 columns</p>\n",
       "</div>"
      ],
      "text/plain": [
       "         u-g      g-r      r-i      i-z       ecc  target\n",
       "459  1.31450  0.58474  0.33902  0.18575  0.910293       1\n",
       "498  1.70491  0.84471  0.40622  0.32586  0.648506       1\n",
       "464  1.02912  0.36241  0.24938  0.20448  0.684930       1\n",
       "57   1.97454  0.96352  0.43336  0.34715  0.721961       0\n",
       "495  1.20532  0.48992  0.27027  0.10746  0.600674       1\n",
       "..       ...      ...      ...      ...       ...     ...\n",
       "270  1.35120  0.58938  0.32680  0.21697  0.819921       1\n",
       "156  1.96622  0.97002  0.43299  0.32953  0.827366       0\n",
       "62   1.90571  0.86412  0.38059  0.31209  0.865797       0\n",
       "143  1.98308  0.89501  0.45316  0.30961  0.876977       0\n",
       "343  1.36583  0.79923  0.39675  0.31768  0.449928       1\n",
       "\n",
       "[520 rows x 6 columns]"
      ]
     },
     "execution_count": 3,
     "metadata": {},
     "output_type": "execute_result"
    }
   ],
   "source": [
    "df"
   ]
  },
  {
   "cell_type": "markdown",
   "metadata": {},
   "source": [
    "# Random Forest"
   ]
  },
  {
   "cell_type": "code",
   "execution_count": 62,
   "metadata": {
    "id": "hGFDBvuot9ZR"
   },
   "outputs": [],
   "source": [
    "#Counts the number of each type of example in a dataset\n",
    "def count_targets(rows):\n",
    "    count = {}  # a dictionary of label -> count.\n",
    "    for row in rows:\n",
    "        label = row[-1]\n",
    "        if label not in count:\n",
    "            count[label] = 0\n",
    "        count[label] += 1\n",
    "    return count"
   ]
  },
  {
   "cell_type": "code",
   "execution_count": 63,
   "metadata": {
    "id": "JJpbkixEt9ZR"
   },
   "outputs": [],
   "source": [
    "def is_numeric(value):\n",
    "    return isinstance(value, int) or isinstance(value, float)"
   ]
  },
  {
   "cell_type": "code",
   "execution_count": 64,
   "metadata": {
    "id": "bkh6bUSot9ZR"
   },
   "outputs": [],
   "source": [
    "# the splitting question\n",
    "class Question:\n",
    "\n",
    "    def __init__(self, column, value):\n",
    "        self.column = column #1\n",
    "        self.value = value #3\n",
    "    \n",
    "    #Check if a row answers the question\n",
    "    def check_answer(self, example): \n",
    "        value = example[self.column]\n",
    "        if is_numeric(value):\n",
    "            return value >= self.value\n",
    "        else:\n",
    "            return value == self.value\n",
    "    \n",
    "    # prints the question\n",
    "    def __repr__(self):\n",
    "        condition = \"==\"\n",
    "        if is_numeric(self.value):\n",
    "            condition = \">=\"\n",
    "        return f\" {header[self.column]} {condition} {str(self.value)}?\"\n"
   ]
  },
  {
   "cell_type": "code",
   "execution_count": 65,
   "metadata": {
    "id": "0Cwz23cft9ZS"
   },
   "outputs": [],
   "source": [
    "# splits the dataset according to the question\n",
    "# true rows satisfy the question \n",
    "def split(rows, question):\n",
    "    correct_rows, wrong_rows = [], []\n",
    "    for row in rows:\n",
    "        if question.check_answer(row):\n",
    "            correct_rows.append(row)\n",
    "        else:\n",
    "            wrong_rows.append(row)\n",
    "    return correct_rows, wrong_rows"
   ]
  },
  {
   "cell_type": "code",
   "execution_count": 66,
   "metadata": {
    "id": "gyhiPG5ht9ZS"
   },
   "outputs": [],
   "source": [
    "#Calculate the Gini Impurity for a list of rows.\n",
    "# gini equation was taken from here\n",
    "#https://en.wikipedia.org/wiki/Decision_tree_learning#Gini_impurity\n",
    "\n",
    "def gini_impurity(rows):\n",
    "    count = count_targets(rows)\n",
    "    impurity = 1\n",
    "    for label in count:\n",
    "        label_probability = count[label] / float(len(rows))\n",
    "        impurity -= label_probability**2\n",
    "    return impurity"
   ]
  },
  {
   "cell_type": "code",
   "execution_count": 67,
   "metadata": {
    "id": "OWtJjcNmt9ZS"
   },
   "outputs": [],
   "source": [
    "# just like in the quiz\n",
    "def info_gain(left, right, current_uncertainty):\n",
    "    probability = float(len(left)) / (len(left) + len(right))\n",
    "    return current_uncertainty - probability * gini_impurity(left) - (1 - probability) * gini_impurity(right)"
   ]
  },
  {
   "cell_type": "code",
   "execution_count": 68,
   "metadata": {
    "id": "8PUPJ8Ont9ZS"
   },
   "outputs": [],
   "source": [
    "def best_splitting_feature(rows, random_subspace):\n",
    "\n",
    "    highest_info_gain = 0  # keep track IG\n",
    "    highest_info_gain_question = None \n",
    "    current_uncertainty = gini_impurity(rows)\n",
    "    column_indices = list(range(len(rows[0]) - 1))  # number of columns\n",
    "    \n",
    "    if random_subspace and random_subspace <= len(column_indices):\n",
    "        column_indices = random.sample(population = column_indices, k = random_subspace)\n",
    "    \n",
    "    for col in column_indices:  #each feature\n",
    "\n",
    "        values = set([row[col] for row in rows])  # unique values in the column\n",
    "        \n",
    "        for val in values:  # for each value\n",
    "\n",
    "            question = Question(col, val)\n",
    "\n",
    "            correct_rows, wrong_rows = split(rows, question)\n",
    "\n",
    "            # Skip split if it doesn't divide the dataset.\n",
    "            if len(correct_rows) == 0 or len(wrong_rows) == 0:\n",
    "                continue\n",
    "\n",
    "            # Calculate the information gain from this split\n",
    "            gain = info_gain(correct_rows, wrong_rows, current_uncertainty)\n",
    "\n",
    "            if gain >= highest_info_gain:\n",
    "                highest_info_gain, highest_info_gain_question = gain, question\n",
    "\n",
    "    return highest_info_gain, highest_info_gain_question"
   ]
  },
  {
   "cell_type": "code",
   "execution_count": 69,
   "metadata": {
    "id": "hAuXWbgZt9ZU"
   },
   "outputs": [],
   "source": [
    "class Leaf_node:\n",
    "    def __init__(self, rows):\n",
    "        self.predictions = count_targets(rows)\n"
   ]
  },
  {
   "cell_type": "code",
   "execution_count": 70,
   "metadata": {
    "id": "BONjGzBEt9ZU"
   },
   "outputs": [],
   "source": [
    "class Decision_Node:\n",
    "\n",
    "    def __init__(self, question, right_branch, wrong_branch):\n",
    "        self.question = question\n",
    "        self.right_branch = right_branch\n",
    "        self.wrong_branch = wrong_branch"
   ]
  },
  {
   "cell_type": "code",
   "execution_count": 71,
   "metadata": {
    "id": "zy37c5Npt9ZU"
   },
   "outputs": [],
   "source": [
    "def build_tree_function(rows, random_subspace):\n",
    "\n",
    "    info_gain, question = best_splitting_feature(rows, random_subspace)    \n",
    "    if info_gain == 0:\n",
    "        return Leaf_node(rows)\n",
    "\n",
    "    \n",
    "    correct_rows, wrong_rows = split(rows, question)\n",
    "    right_branch = build_tree_function(correct_rows, random_subspace)\n",
    "    left_branch = build_tree_function(wrong_rows, random_subspace)\n",
    "\n",
    "    return Decision_Node(question, right_branch, left_branch)"
   ]
  },
  {
   "cell_type": "code",
   "execution_count": 72,
   "metadata": {
    "id": "e9EGPSKmt9ZV"
   },
   "outputs": [],
   "source": [
    "def classify(row, node):\n",
    "    \n",
    "    if isinstance(node, Leaf_node):\n",
    "        return node.predictions\n",
    "\n",
    "    # split\n",
    "    if node.question.check_answer(row):\n",
    "        return classify(row, node.right_branch)\n",
    "    else:\n",
    "        return classify(row, node.wrong_branch)"
   ]
  },
  {
   "cell_type": "code",
   "execution_count": 73,
   "metadata": {
    "id": "wW3kHv7Vt9ZV"
   },
   "outputs": [],
   "source": [
    "def print_leaf(counts):\n",
    "    total = sum(counts.values()) * 1.0\n",
    "    probs = {}\n",
    "    for lbl in counts.keys():\n",
    "        probs[lbl] = str(int(counts[lbl] / total * 100)) + \"%\"\n",
    "        \n",
    "    return probs"
   ]
  },
  {
   "cell_type": "code",
   "execution_count": 74,
   "metadata": {
    "id": "ZQKieKIJt9ZV"
   },
   "outputs": [],
   "source": [
    "def bootstrapping(dataset, num_bootstrap):\n",
    "    \"\"\"\n",
    "    Idea is to create random sample for each decision tree that we create\n",
    "    \"\"\"\n",
    "    bootstrap_indices = np.random.randint(low=0, high=len(dataset), size= num_bootstrap)\n",
    "    df_bootstrapped = dataset.iloc[bootstrap_indices]\n",
    "    return df_bootstrapped"
   ]
  },
  {
   "cell_type": "code",
   "execution_count": 75,
   "metadata": {
    "id": "pXZjDvdyt9ZW"
   },
   "outputs": [],
   "source": [
    "def random_forest(dataset, n_features,n_decision_trees = 50, num_bootstrap=50):\n",
    "    forest = []\n",
    "    for i in range(n_decision_trees):\n",
    "        bootstrapped_data = bootstrapping(dataset, num_bootstrap)\n",
    "        bootstrapped_data = bootstrapped_data.to_numpy()\n",
    "        tree = build_tree_function(bootstrapped_data, random_subspace=n_features)\n",
    "        forest.append(tree)\n",
    "    return forest"
   ]
  },
  {
   "cell_type": "code",
   "execution_count": 76,
   "metadata": {
    "id": "81cZMzTBt9ZW"
   },
   "outputs": [],
   "source": [
    "def random_forest_predictions(test_data, forest):\n",
    "    test_predictions = {}\n",
    "    test_data = test_data.to_numpy()\n",
    "    \n",
    "    for i in range(len(forest)):\n",
    "        column_name = f\"tree_{i}\"\n",
    "        predicted= []\n",
    "        actual = []\n",
    "        \n",
    "        for row in test_data:\n",
    "            most_probable = print_leaf(classify(row, forest[i]))\n",
    "            predicted += [next(iter(most_probable))]\n",
    "            actual += [row[-1]]\n",
    "        test_predictions[column_name] = predicted\n",
    "\n",
    "        \n",
    "    test_predictions = pd.DataFrame(test_predictions)\n",
    "    print(test_predictions)\n",
    "    random_forest_predictions = test_predictions.mode(axis=1)[0]\n",
    "    \n",
    "    return random_forest_predictions, actual"
   ]
  },
  {
   "cell_type": "code",
   "execution_count": 77,
   "metadata": {
    "id": "z9vvXN9HyfYy"
   },
   "outputs": [],
   "source": [
    "def get_overall_cm(df):\n",
    "    classes = df['target'].nunique()\n",
    "    if classes < 2:\n",
    "        classes = 2\n",
    "    overall_cm = []\n",
    "    for i in range(classes):\n",
    "        overall_cm.append( [0] * classes)\n",
    "    return overall_cm"
   ]
  },
  {
   "cell_type": "code",
   "execution_count": 78,
   "metadata": {
    "colab": {
     "base_uri": "https://localhost:8080/"
    },
    "id": "hrbCAO3Wt9ZW",
    "outputId": "2960c36e-f95e-4ad5-c9e2-6acfd35926b8"
   },
   "outputs": [],
   "source": [
    "from sklearn.metrics import confusion_matrix\n",
    "\n",
    "def Kfold(df,n_folds, test_size, overall_cm):\n",
    "    # Iterate through all folds\n",
    "    overall_predicted = []\n",
    "    overall_actual = []\n",
    "    for i in range(n_folds):\n",
    "        print(\"\\n\\n\\n\\nTHIS IS FOLD:\", i)\n",
    "        #split test and train\n",
    "        test = df.iloc[test_size * i : test_size*i+test_size]\n",
    "        \n",
    "        train = df.iloc[test_size:]\n",
    "\n",
    "        forest = random_forest(train, n_features = 10, n_decision_trees = 10, num_bootstrap = 500)\n",
    "\n",
    "        predicted, actual = random_forest_predictions(test, forest)\n",
    "        for p,a in zip(predicted,actual):\n",
    "            overall_predicted.append(p)\n",
    "            overall_actual.append(a)\n",
    "        # generate and append cm \n",
    "        overall_cm = overall_cm + confusion_matrix(actual, predicted)\n",
    "    \n",
    "    print(classification_report(overall_predicted, overall_actual))\n",
    "    return overall_cm\n"
   ]
  },
  {
   "cell_type": "code",
   "execution_count": 79,
   "metadata": {
    "scrolled": false
   },
   "outputs": [
    {
     "name": "stdout",
     "output_type": "stream",
     "text": [
      "\n",
      "\n",
      "\n",
      "\n",
      "THIS IS FOLD: 0\n",
      "     tree_0  tree_1  tree_2  tree_3  tree_4  tree_5  tree_6  tree_7  tree_8  \\\n",
      "0       1.0     1.0     1.0     1.0     1.0     1.0     1.0     1.0     1.0   \n",
      "1       1.0     1.0     1.0     1.0     1.0     1.0     1.0     1.0     1.0   \n",
      "2       1.0     1.0     1.0     1.0     1.0     1.0     1.0     1.0     1.0   \n",
      "3       0.0     0.0     0.0     0.0     0.0     0.0     0.0     0.0     0.0   \n",
      "4       1.0     1.0     1.0     1.0     1.0     1.0     1.0     1.0     1.0   \n",
      "..      ...     ...     ...     ...     ...     ...     ...     ...     ...   \n",
      "255     1.0     1.0     1.0     1.0     1.0     1.0     1.0     1.0     1.0   \n",
      "256     1.0     1.0     1.0     1.0     1.0     1.0     1.0     1.0     1.0   \n",
      "257     1.0     1.0     1.0     1.0     1.0     1.0     1.0     1.0     1.0   \n",
      "258     0.0     0.0     0.0     0.0     0.0     0.0     1.0     0.0     0.0   \n",
      "259     0.0     0.0     0.0     0.0     0.0     0.0     0.0     0.0     0.0   \n",
      "\n",
      "     tree_9  \n",
      "0       1.0  \n",
      "1       1.0  \n",
      "2       1.0  \n",
      "3       0.0  \n",
      "4       1.0  \n",
      "..      ...  \n",
      "255     1.0  \n",
      "256     1.0  \n",
      "257     1.0  \n",
      "258     0.0  \n",
      "259     0.0  \n",
      "\n",
      "[260 rows x 10 columns]\n",
      "\n",
      "\n",
      "\n",
      "\n",
      "THIS IS FOLD: 1\n",
      "     tree_0  tree_1  tree_2  tree_3  tree_4  tree_5  tree_6  tree_7  tree_8  \\\n",
      "0       1.0     1.0     1.0     1.0     1.0     1.0     1.0     1.0     1.0   \n",
      "1       0.0     0.0     0.0     0.0     0.0     0.0     0.0     0.0     0.0   \n",
      "2       1.0     1.0     1.0     1.0     1.0     1.0     1.0     1.0     1.0   \n",
      "3       1.0     1.0     1.0     1.0     1.0     1.0     1.0     1.0     1.0   \n",
      "4       0.0     0.0     0.0     0.0     0.0     0.0     0.0     0.0     0.0   \n",
      "..      ...     ...     ...     ...     ...     ...     ...     ...     ...   \n",
      "255     1.0     1.0     1.0     1.0     1.0     1.0     1.0     1.0     1.0   \n",
      "256     0.0     0.0     0.0     0.0     0.0     0.0     0.0     0.0     0.0   \n",
      "257     0.0     0.0     0.0     0.0     0.0     0.0     0.0     0.0     0.0   \n",
      "258     0.0     0.0     0.0     0.0     0.0     0.0     0.0     0.0     0.0   \n",
      "259     1.0     1.0     1.0     1.0     1.0     1.0     1.0     1.0     1.0   \n",
      "\n",
      "     tree_9  \n",
      "0       1.0  \n",
      "1       0.0  \n",
      "2       1.0  \n",
      "3       1.0  \n",
      "4       0.0  \n",
      "..      ...  \n",
      "255     1.0  \n",
      "256     0.0  \n",
      "257     0.0  \n",
      "258     0.0  \n",
      "259     1.0  \n",
      "\n",
      "[260 rows x 10 columns]\n",
      "              precision    recall  f1-score   support\n",
      "\n",
      "         0.0       0.95      0.95      0.95       258\n",
      "         1.0       0.95      0.95      0.95       262\n",
      "\n",
      "    accuracy                           0.95       520\n",
      "   macro avg       0.95      0.95      0.95       520\n",
      "weighted avg       0.95      0.95      0.95       520\n",
      "\n",
      "\n",
      "\n",
      "\n",
      " Confusion Matrix\n",
      "[[246  14]\n",
      " [ 12 248]]\n"
     ]
    }
   ],
   "source": [
    "\n",
    "if __name__ == \"__main__\":\n",
    "    # KFOLD take in n folds and the size of dataset\n",
    "    \n",
    "    # DATASET1 SYDNEY\n",
    "    n_folds = 2\n",
    "    test_size = int(df.shape[0]/n_folds)\n",
    "\n",
    "    # get overall cm returns a Confusion matrix with 0's shape depends on (classes)\n",
    "    rfcm = Kfold(df,n_folds, test_size, get_overall_cm(df))\n",
    "    print(f\"\\n\\n\\n Confusion Matrix\\n{rfcm}\")"
   ]
  },
  {
   "cell_type": "code",
   "execution_count": null,
   "metadata": {},
   "outputs": [],
   "source": []
  }
 ],
 "metadata": {
  "colab": {
   "collapsed_sections": [],
   "name": "RandomForest.ipynb",
   "provenance": []
  },
  "kernelspec": {
   "display_name": "Python 3",
   "language": "python",
   "name": "python3"
  },
  "language_info": {
   "codemirror_mode": {
    "name": "ipython",
    "version": 3
   },
   "file_extension": ".py",
   "mimetype": "text/x-python",
   "name": "python",
   "nbconvert_exporter": "python",
   "pygments_lexer": "ipython3",
   "version": "3.8.3"
  }
 },
 "nbformat": 4,
 "nbformat_minor": 1
}
