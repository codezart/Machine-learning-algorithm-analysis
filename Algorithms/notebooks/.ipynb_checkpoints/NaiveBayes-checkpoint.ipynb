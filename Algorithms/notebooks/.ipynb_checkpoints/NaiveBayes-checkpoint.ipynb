{
 "cells": [
  {
   "cell_type": "code",
   "execution_count": 2,
   "metadata": {
    "id": "oeWgw40F1xjS"
   },
   "outputs": [],
   "source": [
    "import pandas as pd\n",
    "from pprint import pprint\n",
    "from IPython.display import Image\n",
    "from sklearn.model_selection import train_test_split\n",
    "from sklearn.metrics import classification_report"
   ]
  },
  {
   "cell_type": "markdown",
   "metadata": {},
   "source": [
    "## Reading Data"
   ]
  },
  {
   "cell_type": "code",
   "execution_count": 3,
   "metadata": {
    "id": "Gr_MgdRc1xjX"
   },
   "outputs": [],
   "source": [
    "# GALAXY DATASET\n",
    "def DatasetGALAXY():\n",
    "    df = pd.read_csv('../../Data/galaxymorphology/dataset1_sydney.csv')\n",
    "    df.head()\n",
    "    df['target'].value_counts()\n",
    "    mapping = {\n",
    "        'elliptical': 0,\n",
    "        'spiral':1\n",
    "    }\n",
    "    df['target'] = df['target'].map(mapping)\n",
    "    x = df.sample(df.shape[0])\n",
    "    df = x.iloc[:, :5]\n",
    "    df['target'] = x.iloc[:,-1]\n",
    "    return df\n",
    "df = DatasetGALAXY()"
   ]
  },
  {
   "cell_type": "code",
   "execution_count": 4,
   "metadata": {},
   "outputs": [
    {
     "name": "stdout",
     "output_type": "stream",
     "text": [
      "4\n"
     ]
    }
   ],
   "source": [
    "#CAR DATASET\n",
    "def DatasetCAR():\n",
    "    df = pd.read_csv('../../Data/dataset1-car/car_dataset.csv')\n",
    "    \n",
    "    #     df['buying'].replace(['vhigh', 'high', 'med', 'low'],[3,2,1,0], inplace = True)\n",
    "    #     df['maintenance'].replace(['vhigh', 'high', 'med', 'low'],[3,2,1,0], inplace = True)\n",
    "    #     df['doors'].replace(['2', '3', '4', '5more'],[2,3,4,5], inplace = True)\n",
    "    #     df['persons'].replace(['2', '4', 'more'],[2,4,5], inplace = True)\n",
    "    #     df['lug_boot'].replace(['small', 'med', 'big'],[1,2,3], inplace = True)\n",
    "    #     df['safety'].replace(['high', 'med', 'low'],[3,2,1], inplace = True)\n",
    "    #     df['target'].replace(['unacc', 'acc', 'good', 'vgood'],[0,1,2,3], inplace = True)\n",
    "    #     df= df[df.target !=3]\n",
    "    #     df= df[df.target !=2]\n",
    "    print(df['target'].nunique())\n",
    "    df = df.sample(df.shape[0])\n",
    "    return df\n",
    "\n",
    "df = DatasetCAR()\n"
   ]
  },
  {
   "cell_type": "code",
   "execution_count": 19,
   "metadata": {},
   "outputs": [],
   "source": [
    "#IRIS DATASET\n",
    "def DatasetIRIS():\n",
    "    df = pd.read_csv('../../Data/iris/iris.data')\n",
    "    #df['target'].replace(['Iris-setosa', 'Iris-versicolor', 'Iris-virginica'],[0,1,2], inplace = True)\n",
    "    df = df.sample(df.shape[0])\n",
    "    return df\n",
    "df = DatasetIRIS()\n"
   ]
  },
  {
   "cell_type": "code",
   "execution_count": 22,
   "metadata": {},
   "outputs": [],
   "source": [
    "#TITANIC DATASET\n",
    "def DatasetTITANIC():\n",
    "    df = pd.read_csv('../../Data/Titanic/train.csv')\n",
    "    df.drop(columns = ['Cabin', 'Embarked', 'Ticket','Name','PassengerId'], inplace=True)\n",
    "    df['Sex'].replace(['male', 'female'],[0,1], inplace = True)\n",
    "    df =df.dropna()\n",
    "    \n",
    "    return df\n",
    "df = DatasetTITANIC()"
   ]
  },
  {
   "cell_type": "code",
   "execution_count": 5,
   "metadata": {},
   "outputs": [
    {
     "data": {
      "text/html": [
       "<div>\n",
       "<style scoped>\n",
       "    .dataframe tbody tr th:only-of-type {\n",
       "        vertical-align: middle;\n",
       "    }\n",
       "\n",
       "    .dataframe tbody tr th {\n",
       "        vertical-align: top;\n",
       "    }\n",
       "\n",
       "    .dataframe thead th {\n",
       "        text-align: right;\n",
       "    }\n",
       "</style>\n",
       "<table border=\"1\" class=\"dataframe\">\n",
       "  <thead>\n",
       "    <tr style=\"text-align: right;\">\n",
       "      <th></th>\n",
       "      <th>buying</th>\n",
       "      <th>maintenance</th>\n",
       "      <th>doors</th>\n",
       "      <th>persons</th>\n",
       "      <th>lug_boot</th>\n",
       "      <th>safety</th>\n",
       "      <th>target</th>\n",
       "    </tr>\n",
       "  </thead>\n",
       "  <tbody>\n",
       "    <tr>\n",
       "      <th>1694</th>\n",
       "      <td>low</td>\n",
       "      <td>low</td>\n",
       "      <td>4</td>\n",
       "      <td>more</td>\n",
       "      <td>small</td>\n",
       "      <td>high</td>\n",
       "      <td>good</td>\n",
       "    </tr>\n",
       "    <tr>\n",
       "      <th>719</th>\n",
       "      <td>high</td>\n",
       "      <td>med</td>\n",
       "      <td>4</td>\n",
       "      <td>4</td>\n",
       "      <td>big</td>\n",
       "      <td>high</td>\n",
       "      <td>acc</td>\n",
       "    </tr>\n",
       "    <tr>\n",
       "      <th>886</th>\n",
       "      <td>med</td>\n",
       "      <td>vhigh</td>\n",
       "      <td>2</td>\n",
       "      <td>more</td>\n",
       "      <td>med</td>\n",
       "      <td>med</td>\n",
       "      <td>unacc</td>\n",
       "    </tr>\n",
       "    <tr>\n",
       "      <th>1645</th>\n",
       "      <td>low</td>\n",
       "      <td>low</td>\n",
       "      <td>2</td>\n",
       "      <td>more</td>\n",
       "      <td>big</td>\n",
       "      <td>med</td>\n",
       "      <td>good</td>\n",
       "    </tr>\n",
       "    <tr>\n",
       "      <th>1153</th>\n",
       "      <td>med</td>\n",
       "      <td>med</td>\n",
       "      <td>4</td>\n",
       "      <td>more</td>\n",
       "      <td>small</td>\n",
       "      <td>med</td>\n",
       "      <td>acc</td>\n",
       "    </tr>\n",
       "    <tr>\n",
       "      <th>...</th>\n",
       "      <td>...</td>\n",
       "      <td>...</td>\n",
       "      <td>...</td>\n",
       "      <td>...</td>\n",
       "      <td>...</td>\n",
       "      <td>...</td>\n",
       "      <td>...</td>\n",
       "    </tr>\n",
       "    <tr>\n",
       "      <th>123</th>\n",
       "      <td>vhigh</td>\n",
       "      <td>high</td>\n",
       "      <td>2</td>\n",
       "      <td>4</td>\n",
       "      <td>big</td>\n",
       "      <td>low</td>\n",
       "      <td>unacc</td>\n",
       "    </tr>\n",
       "    <tr>\n",
       "      <th>1378</th>\n",
       "      <td>low</td>\n",
       "      <td>vhigh</td>\n",
       "      <td>5more</td>\n",
       "      <td>2</td>\n",
       "      <td>small</td>\n",
       "      <td>med</td>\n",
       "      <td>unacc</td>\n",
       "    </tr>\n",
       "    <tr>\n",
       "      <th>728</th>\n",
       "      <td>high</td>\n",
       "      <td>med</td>\n",
       "      <td>4</td>\n",
       "      <td>more</td>\n",
       "      <td>big</td>\n",
       "      <td>high</td>\n",
       "      <td>acc</td>\n",
       "    </tr>\n",
       "    <tr>\n",
       "      <th>39</th>\n",
       "      <td>vhigh</td>\n",
       "      <td>vhigh</td>\n",
       "      <td>3</td>\n",
       "      <td>4</td>\n",
       "      <td>med</td>\n",
       "      <td>low</td>\n",
       "      <td>unacc</td>\n",
       "    </tr>\n",
       "    <tr>\n",
       "      <th>82</th>\n",
       "      <td>vhigh</td>\n",
       "      <td>vhigh</td>\n",
       "      <td>5more</td>\n",
       "      <td>2</td>\n",
       "      <td>small</td>\n",
       "      <td>med</td>\n",
       "      <td>unacc</td>\n",
       "    </tr>\n",
       "  </tbody>\n",
       "</table>\n",
       "<p>1728 rows × 7 columns</p>\n",
       "</div>"
      ],
      "text/plain": [
       "     buying maintenance  doors persons lug_boot safety target\n",
       "1694    low         low      4    more    small   high   good\n",
       "719    high         med      4       4      big   high    acc\n",
       "886     med       vhigh      2    more      med    med  unacc\n",
       "1645    low         low      2    more      big    med   good\n",
       "1153    med         med      4    more    small    med    acc\n",
       "...     ...         ...    ...     ...      ...    ...    ...\n",
       "123   vhigh        high      2       4      big    low  unacc\n",
       "1378    low       vhigh  5more       2    small    med  unacc\n",
       "728    high         med      4    more      big   high    acc\n",
       "39    vhigh       vhigh      3       4      med    low  unacc\n",
       "82    vhigh       vhigh  5more       2    small    med  unacc\n",
       "\n",
       "[1728 rows x 7 columns]"
      ]
     },
     "execution_count": 5,
     "metadata": {},
     "output_type": "execute_result"
    }
   ],
   "source": [
    "df"
   ]
  },
  {
   "cell_type": "markdown",
   "metadata": {},
   "source": [
    "## NAIVE BAYES"
   ]
  },
  {
   "cell_type": "code",
   "execution_count": 6,
   "metadata": {
    "id": "69_0XhXH1xjY"
   },
   "outputs": [],
   "source": [
    "def create_table(df, label_column):\n",
    "    table = {}\n",
    "\n",
    "    # determine values for the label\n",
    "    value_counts = df[label_column].value_counts().sort_index()\n",
    "    table[\"class_names\"] = value_counts.index.to_numpy()\n",
    "    table[\"class_counts\"] = value_counts.values\n",
    "    \n",
    "    # determine probabilities for the features\n",
    "    for feature in df.drop(label_column, axis=1).columns:\n",
    "        table[feature] = {}\n",
    "        # determine counts\n",
    "        counts = df.groupby(label_column)[feature].value_counts()\n",
    "        df_counts = counts.unstack(label_column)\n",
    "        # add one count to avoid \"problem of rare values\"\n",
    "        if df_counts.isna().any(axis=None):\n",
    "            df_counts.fillna(value=0, inplace=True)\n",
    "            df_counts += 1\n",
    "\n",
    "        # calculate probabilities\n",
    "        df_probabilities = df_counts / df_counts.sum()\n",
    "        for value in df_probabilities.index:\n",
    "            probabilities = df_probabilities.loc[value].to_numpy()\n",
    "            table[feature][value] = probabilities\n",
    "    pprint(table) \n",
    "    return table"
   ]
  },
  {
   "cell_type": "code",
   "execution_count": 7,
   "metadata": {
    "id": "O49cy8R11xjZ"
   },
   "outputs": [],
   "source": [
    "def predict_example(row, lookup_table):\n",
    "    class_estimates = lookup_table[\"class_counts\"]\n",
    "    for feature in row.index:\n",
    "        try:\n",
    "            value = row[feature]\n",
    "            probabilities = lookup_table[feature][value]\n",
    "            class_estimates = class_estimates * probabilities\n",
    "\n",
    "        # skip in case \"value\" only occurs in test set but not in train set\n",
    "        # (i.e. \"value\" is not in \"lookup_table\")\n",
    "        except KeyError:\n",
    "            continue\n",
    "\n",
    "    index_max_class = class_estimates.argmax()\n",
    "    prediction = lookup_table[\"class_names\"][index_max_class]\n",
    "    \n",
    "    return prediction"
   ]
  },
  {
   "cell_type": "code",
   "execution_count": 8,
   "metadata": {
    "id": "R4AYrbY_6mIF"
   },
   "outputs": [],
   "source": [
    "def get_overall_cm(df):\n",
    "    classes = df['target'].nunique()\n",
    "    if classes < 2:\n",
    "        classes = 2\n",
    "    overall_cm = []\n",
    "    for i in range(classes):\n",
    "        overall_cm.append( [0] * classes)\n",
    "    return overall_cm"
   ]
  },
  {
   "cell_type": "code",
   "execution_count": 9,
   "metadata": {
    "colab": {
     "base_uri": "https://localhost:8080/"
    },
    "id": "QTp63AuV4YOw",
    "outputId": "1533f2aa-96fd-4259-d2b8-707ac7a8fd13"
   },
   "outputs": [],
   "source": [
    "from sklearn.metrics import confusion_matrix\n",
    "\n",
    "def Kfold(df,n_folds, test_size, overall_cm):\n",
    "    # Iterate through all folds\n",
    "    overall_predicted = []\n",
    "    overall_actual = []\n",
    "    for i in range(n_folds):\n",
    "        print(\"\\n\\n\\n\\nTHIS IS FOLD:\", i)\n",
    "        #split test and train\n",
    "        test = df.iloc[test_size * i : test_size*i+test_size]\n",
    "        test_labels = test.iloc[:, -1]\n",
    "        test.drop(columns = ['target'], inplace= True)\n",
    "\n",
    "        train = df.iloc[test_size:]\n",
    "        lookup_table = create_table(train, label_column=\"target\")\n",
    "\n",
    "        predictions = test.apply(predict_example, axis=1, args=(lookup_table,))\n",
    "        for p,a in zip(predictions,test_labels):\n",
    "            overall_predicted.append(p)\n",
    "            overall_actual.append(a)\n",
    "        # generate and append cm \n",
    "        overall_cm = overall_cm + confusion_matrix(test_labels, predictions)\n",
    "    print(classification_report(overall_actual, overall_predicted))\n",
    "    return overall_cm\n"
   ]
  },
  {
   "cell_type": "markdown",
   "metadata": {},
   "source": [
    "# Run Naive Bayes"
   ]
  },
  {
   "cell_type": "code",
   "execution_count": 10,
   "metadata": {
    "scrolled": true
   },
   "outputs": [
    {
     "name": "stdout",
     "output_type": "stream",
     "text": [
      "\n",
      "\n",
      "\n",
      "\n",
      "THIS IS FOLD: 0\n"
     ]
    },
    {
     "name": "stderr",
     "output_type": "stream",
     "text": [
      "D:\\DeveloperTools\\anaconda3\\lib\\site-packages\\pandas\\core\\frame.py:3990: SettingWithCopyWarning: \n",
      "A value is trying to be set on a copy of a slice from a DataFrame\n",
      "\n",
      "See the caveats in the documentation: https://pandas.pydata.org/pandas-docs/stable/user_guide/indexing.html#returning-a-view-versus-a-copy\n",
      "  return super().drop(\n"
     ]
    },
    {
     "name": "stdout",
     "output_type": "stream",
     "text": [
      "{'buying': {'high': array([0.24747475, 0.02777778, 0.2640264 , 0.025     ]),\n",
      "            'low': array([0.24747475, 0.66666667, 0.21122112, 0.6       ]),\n",
      "            'med': array([0.3030303 , 0.27777778, 0.21452145, 0.35      ]),\n",
      "            'vhigh': array([0.2020202 , 0.02777778, 0.31023102, 0.025     ])},\n",
      " 'class_counts': array([194,  32, 602,  36], dtype=int64),\n",
      " 'class_names': array(['acc', 'good', 'unacc', 'vgood'], dtype=object),\n",
      " 'doors': {'2': array([0.19072165, 0.1875    , 0.25747508, 0.16666667]),\n",
      "           '3': array([0.25773196, 0.3125    , 0.24916944, 0.22222222]),\n",
      "           '4': array([0.25773196, 0.1875    , 0.25747508, 0.36111111]),\n",
      "           '5more': array([0.29381443, 0.3125    , 0.2358804 , 0.25      ])},\n",
      " 'lug_boot': {'big': array([0.35025381, 0.31428571, 0.27768595, 0.64102564]),\n",
      "              'med': array([0.38071066, 0.37142857, 0.34049587, 0.33333333]),\n",
      "              'small': array([0.26903553, 0.31428571, 0.38181818, 0.02564103])},\n",
      " 'maintenance': {'high': array([0.25757576, 0.02777778, 0.26237624, 0.2       ]),\n",
      "                 'low': array([0.29292929, 0.58333333, 0.20792079, 0.45      ]),\n",
      "                 'med': array([0.26262626, 0.36111111, 0.22442244, 0.325     ]),\n",
      "                 'vhigh': array([0.18686869, 0.02777778, 0.30528053, 0.025     ])},\n",
      " 'persons': {'2': array([0.00507614, 0.02857143, 0.46115702, 0.02564103]),\n",
      "             '4': array([0.53299492, 0.54285714, 0.28760331, 0.43589744]),\n",
      "             'more': array([0.46192893, 0.42857143, 0.25123967, 0.53846154])},\n",
      " 'safety': {'high': array([0.54822335, 0.48571429, 0.23140496, 0.94871795]),\n",
      "            'low': array([0.00507614, 0.02857143, 0.47933884, 0.02564103]),\n",
      "            'med': array([0.44670051, 0.48571429, 0.2892562 , 0.02564103])}}\n",
      "\n",
      "\n",
      "\n",
      "\n",
      "THIS IS FOLD: 1\n",
      "{'buying': {'high': array([0.24747475, 0.02777778, 0.2640264 , 0.025     ]),\n",
      "            'low': array([0.24747475, 0.66666667, 0.21122112, 0.6       ]),\n",
      "            'med': array([0.3030303 , 0.27777778, 0.21452145, 0.35      ]),\n",
      "            'vhigh': array([0.2020202 , 0.02777778, 0.31023102, 0.025     ])},\n",
      " 'class_counts': array([194,  32, 602,  36], dtype=int64),\n",
      " 'class_names': array(['acc', 'good', 'unacc', 'vgood'], dtype=object),\n",
      " 'doors': {'2': array([0.19072165, 0.1875    , 0.25747508, 0.16666667]),\n",
      "           '3': array([0.25773196, 0.3125    , 0.24916944, 0.22222222]),\n",
      "           '4': array([0.25773196, 0.1875    , 0.25747508, 0.36111111]),\n",
      "           '5more': array([0.29381443, 0.3125    , 0.2358804 , 0.25      ])},\n",
      " 'lug_boot': {'big': array([0.35025381, 0.31428571, 0.27768595, 0.64102564]),\n",
      "              'med': array([0.38071066, 0.37142857, 0.34049587, 0.33333333]),\n",
      "              'small': array([0.26903553, 0.31428571, 0.38181818, 0.02564103])},\n",
      " 'maintenance': {'high': array([0.25757576, 0.02777778, 0.26237624, 0.2       ]),\n",
      "                 'low': array([0.29292929, 0.58333333, 0.20792079, 0.45      ]),\n",
      "                 'med': array([0.26262626, 0.36111111, 0.22442244, 0.325     ]),\n",
      "                 'vhigh': array([0.18686869, 0.02777778, 0.30528053, 0.025     ])},\n",
      " 'persons': {'2': array([0.00507614, 0.02857143, 0.46115702, 0.02564103]),\n",
      "             '4': array([0.53299492, 0.54285714, 0.28760331, 0.43589744]),\n",
      "             'more': array([0.46192893, 0.42857143, 0.25123967, 0.53846154])},\n",
      " 'safety': {'high': array([0.54822335, 0.48571429, 0.23140496, 0.94871795]),\n",
      "            'low': array([0.00507614, 0.02857143, 0.47933884, 0.02564103]),\n",
      "            'med': array([0.44670051, 0.48571429, 0.2892562 , 0.02564103])}}\n",
      "              precision    recall  f1-score   support\n",
      "\n",
      "         acc       0.68      0.73      0.71       384\n",
      "        good       0.50      0.07      0.13        69\n",
      "       unacc       0.92      0.97      0.95      1210\n",
      "       vgood       0.97      0.49      0.65        65\n",
      "\n",
      "    accuracy                           0.86      1728\n",
      "   macro avg       0.77      0.57      0.61      1728\n",
      "weighted avg       0.85      0.86      0.85      1728\n",
      "\n",
      "\n",
      "\n",
      "\n",
      " Confusion Matrix\n",
      "[[ 281    5   98    0]\n",
      " [  63    5    0    1]\n",
      " [  36    0 1174    0]\n",
      " [  33    0    0   32]]\n"
     ]
    }
   ],
   "source": [
    "if __name__ == \"__main__\":\n",
    "    # KFOLD take in n folds and the size of dataset\n",
    "    n_folds = 2\n",
    "    test_size = int(df.shape[0]/n_folds)\n",
    "\n",
    "    # get overall cm returns a Confusion matrix with 0's shape depends on (classes)\n",
    "    nbcm = Kfold(df,n_folds, test_size, get_overall_cm(df))\n",
    "    print(f\"\\n\\n\\n Confusion Matrix\\n{nbcm}\")"
   ]
  },
  {
   "cell_type": "code",
   "execution_count": 1,
   "metadata": {
    "id": "FOQetic71xja",
    "outputId": "45f1c11e-2969-4273-d0c8-583585b08bb9"
   },
   "outputs": [],
   "source": [
    "# Reference: https://www.sebastian-mantey.com/code-blog/coding-a-naive-bayes-classifier-from-scratch-python-p1-introduction\n"
   ]
  }
 ],
 "metadata": {
  "colab": {
   "name": "NaiveBayes.ipynb",
   "provenance": [],
   "toc_visible": true
  },
  "kernelspec": {
   "display_name": "Python 3",
   "language": "python",
   "name": "python3"
  },
  "language_info": {
   "codemirror_mode": {
    "name": "ipython",
    "version": 3
   },
   "file_extension": ".py",
   "mimetype": "text/x-python",
   "name": "python",
   "nbconvert_exporter": "python",
   "pygments_lexer": "ipython3",
   "version": "3.8.3"
  }
 },
 "nbformat": 4,
 "nbformat_minor": 4
}
