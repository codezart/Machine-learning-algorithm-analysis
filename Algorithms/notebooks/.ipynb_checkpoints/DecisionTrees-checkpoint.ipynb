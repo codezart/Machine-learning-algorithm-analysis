{
 "cells": [
  {
   "cell_type": "code",
   "execution_count": 1,
   "metadata": {
    "id": "vyuB2Gl20Hcg"
   },
   "outputs": [],
   "source": [
    "import pandas as pd\n",
    "from sklearn.tree import DecisionTreeClassifier\n",
    "from sklearn.metrics import classification_report, confusion_matrix, accuracy_score, plot_confusion_matrix, make_scorer\n",
    "from sklearn.model_selection import train_test_split, KFold, cross_val_score\n",
    "from matplotlib import pyplot as plt"
   ]
  },
  {
   "cell_type": "code",
   "execution_count": 19,
   "metadata": {
    "colab": {
     "base_uri": "https://localhost:8080/",
     "height": 643
    },
    "id": "ubjGXmjwi6R-",
    "outputId": "2a95a9c9-2c66-42d8-9338-b3fab5f7152e"
   },
   "outputs": [],
   "source": [
    "#Loading the dataset\n",
    "dataset_path = \"../../Data/galaxymorphology/dataset1_sydney.csv\"\n",
    "sydney_dataset = pd.read_csv(dataset_path)\n",
    "header = sydney_dataset.columns\n",
    "sydney_train, sydney_test = train_test_split(sydney_dataset, test_size=0.2)\n",
    "sydney_train = sydney_train.to_numpy()\n",
    "sydney_test = sydney_test.to_numpy()"
   ]
  },
  {
   "cell_type": "code",
   "execution_count": 20,
   "metadata": {
    "colab": {
     "base_uri": "https://localhost:8080/"
    },
    "id": "qO3SMFUa0MZ4",
    "outputId": "d1b86443-dd80-4012-bb93-0569ade7ba20"
   },
   "outputs": [],
   "source": [
    "def unique_vals(rows, col):\n",
    "    \"\"\"Returns unique values of a column in a dataset\"\"\"\n",
    "    return set([row[col] for row in rows])"
   ]
  },
  {
   "cell_type": "code",
   "execution_count": 21,
   "metadata": {
    "colab": {
     "base_uri": "https://localhost:8080/"
    },
    "id": "SNVtyEM30QOB",
    "outputId": "dff3b698-50ab-470a-c2e5-310aef9eabed"
   },
   "outputs": [],
   "source": [
    "def class_counts(rows):\n",
    "    \"\"\"Counts the number of each type of example in a dataset.\"\"\"\n",
    "    counts = {}  # a dictionary of label -> count.\n",
    "    for row in rows:\n",
    "        \"\"\"In our datasets format, the label is always the last column \n",
    "         or we will prepare the dataframe that way before feeding it\"\"\"\n",
    "        label = row[-1]\n",
    "        if label not in counts:\n",
    "            counts[label] = 0\n",
    "        counts[label] += 1\n",
    "    return counts"
   ]
  },
  {
   "cell_type": "code",
   "execution_count": 22,
   "metadata": {
    "colab": {
     "base_uri": "https://localhost:8080/"
    },
    "id": "uz2VomX40ST1",
    "outputId": "14cc8538-5a04-429e-d38e-a27f4304148d"
   },
   "outputs": [],
   "source": [
    "def is_numeric(value):\n",
    "    \"\"\"Test if a value is numeric.\"\"\"\n",
    "    return isinstance(value, int) or isinstance(value, float)"
   ]
  },
  {
   "cell_type": "code",
   "execution_count": 23,
   "metadata": {
    "colab": {
     "base_uri": "https://localhost:8080/",
     "height": 35
    },
    "id": "VwAIz7sl0T0v",
    "outputId": "7b7ae060-c220-4d1d-8430-0bc347ecb274"
   },
   "outputs": [],
   "source": [
    "class Question:\n",
    "    \"\"\"A Question, to split(with a feature) a dataset.\n",
    "        Records: -\n",
    "        'column number' (e.g., 0 for Color) \n",
    "        'column value' (e.g., Green). \n",
    "        \n",
    "        'match' method: is used to compare the feature value in an example to the feature value stored in the\n",
    "                        question.\n",
    "    \"\"\"\n",
    "\n",
    "    def __init__(self, column, value):\n",
    "        self.column = column #1\n",
    "        self.value = value #3\n",
    "    \n",
    "    def match(self, example):\n",
    "        # Compare the feature value in an example to the\n",
    "        # feature value in this question.\n",
    "        val = example[self.column]\n",
    "        if is_numeric(val):\n",
    "            return val >= self.value\n",
    "        else:\n",
    "            return val == self.value\n",
    "\n",
    "    def __repr__(self):\n",
    "        # This is just a helper method to print\n",
    "        # the question in a readable format.\n",
    "        condition = \"==\"\n",
    "        if is_numeric(self.value):\n",
    "            condition = \">=\"\n",
    "        return \"Is %s %s %s?\" % (\n",
    "            header[self.column], condition, str(self.value))\n"
   ]
  },
  {
   "cell_type": "code",
   "execution_count": 24,
   "metadata": {
    "colab": {
     "base_uri": "https://localhost:8080/"
    },
    "id": "JenUp_-f0T25",
    "outputId": "f100fe02-b33e-4d03-c1ba-bea2f60f1002"
   },
   "outputs": [],
   "source": [
    "def partition(rows, question):\n",
    "    \"\"\"Partitions a dataset.\n",
    "    For each row in the dataset, check if it matches the question. If\n",
    "    so, add it to 'true rows', otherwise, add it to 'false rows'.\n",
    "    \"\"\"\n",
    "    true_rows, false_rows = [], []\n",
    "    for row in rows:\n",
    "        if question.match(row):\n",
    "            true_rows.append(row)\n",
    "        else:\n",
    "            false_rows.append(row)\n",
    "    return true_rows, false_rows"
   ]
  },
  {
   "cell_type": "code",
   "execution_count": 25,
   "metadata": {
    "colab": {
     "base_uri": "https://localhost:8080/"
    },
    "id": "CDB2Rr440T4_",
    "outputId": "394fba4c-bcc0-48e7-ee89-93e77324f56d"
   },
   "outputs": [],
   "source": [
    "def gini(rows):\n",
    "    \"\"\"Calculate the Gini Impurity for a list of rows.\n",
    "    There are a few different ways to do this, I thought this one was\n",
    "    the most concise. See:\n",
    "    https://en.wikipedia.org/wiki/Decision_tree_learning#Gini_impurity\n",
    "    \"\"\"\n",
    "    counts = class_counts(rows)\n",
    "    impurity = 1\n",
    "    for label in counts:\n",
    "        prob_of_label = counts[label] / float(len(rows))\n",
    "        impurity -= prob_of_label**2\n",
    "    return impurity"
   ]
  },
  {
   "cell_type": "code",
   "execution_count": 26,
   "metadata": {
    "colab": {
     "base_uri": "https://localhost:8080/"
    },
    "id": "DIbok0tA0T7c",
    "outputId": "7268a4c2-a4a4-4dca-d4de-5f4445100f21"
   },
   "outputs": [],
   "source": [
    "def info_gain(left, right, current_uncertainty):\n",
    "    \"\"\"Information Gain.\n",
    "    The uncertainty of the starting node, minus the weighted impurity of\n",
    "    two child nodes.\n",
    "    \"\"\"\n",
    "    p = float(len(left)) / (len(left) + len(right))\n",
    "    return current_uncertainty - p * gini(left) - (1 - p) * gini(right)"
   ]
  },
  {
   "cell_type": "code",
   "execution_count": 27,
   "metadata": {
    "colab": {
     "base_uri": "https://localhost:8080/"
    },
    "id": "v53NCyqi0T9p",
    "outputId": "0a5d5871-2372-4c10-b327-3680863562b1"
   },
   "outputs": [],
   "source": [
    "def find_best_split(rows):\n",
    "    \"\"\"Find the best question to ask by iterating over every feature / value\n",
    "    and calculating the information gain.\"\"\"\n",
    "    best_gain = 0  # keep track of the best information gain\n",
    "    best_question = None  # keep train of the feature / value that produced it\n",
    "    current_uncertainty = gini(rows)\n",
    "    n_features = len(rows[0]) - 1  # number of columns\n",
    "\n",
    "    for col in range(n_features):  # for each feature\n",
    "\n",
    "        values = set([row[col] for row in rows])  # unique values in the column\n",
    "\n",
    "        for val in values:  # for each value\n",
    "\n",
    "            question = Question(col, val)\n",
    "\n",
    "            # try splitting the dataset\n",
    "            true_rows, false_rows = partition(rows, question)\n",
    "\n",
    "            # Skip this split if it doesn't divide the\n",
    "            # dataset.\n",
    "            if len(true_rows) == 0 or len(false_rows) == 0:\n",
    "                continue\n",
    "\n",
    "            # Calculate the information gain from this split\n",
    "            gain = info_gain(true_rows, false_rows, current_uncertainty)\n",
    "\n",
    "            # You actually can use '>' instead of '>=' here\n",
    "            # but I wanted the tree to look a certain way for our\n",
    "            # toy dataset.\n",
    "            if gain >= best_gain:\n",
    "                best_gain, best_question = gain, question\n",
    "\n",
    "    return best_gain, best_question"
   ]
  },
  {
   "cell_type": "code",
   "execution_count": 28,
   "metadata": {
    "id": "pZ7YuaNB0T_r"
   },
   "outputs": [],
   "source": [
    "class Leaf:\n",
    "    \"\"\"A Leaf node classifies data.\n",
    "    This holds a dictionary of class (e.g., \"Apple\") -> number of times\n",
    "    it appears in the rows from the training data that reach this leaf.\n",
    "    \"\"\"\n",
    "\n",
    "    def __init__(self, rows):\n",
    "        self.predictions = class_counts(rows)\n"
   ]
  },
  {
   "cell_type": "code",
   "execution_count": 41,
   "metadata": {
    "id": "t2hV2NWu0inp"
   },
   "outputs": [],
   "source": [
    "class Decision_Node:\n",
    "    \"\"\"A Decision Node asks a question.\n",
    "    This holds a reference to the question, and to the two child nodes.\n",
    "    \"\"\"\n",
    "\n",
    "    def __init__(self, question, true_branch, false_branch):\n",
    "        self.question = question\n",
    "        self.true_branch = true_branch\n",
    "        self.false_branch = false_branch"
   ]
  },
  {
   "cell_type": "code",
   "execution_count": 42,
   "metadata": {
    "id": "Uc6OLnGs0il6"
   },
   "outputs": [],
   "source": [
    "def build_tree(rows):\n",
    "    \"\"\"Builds the tree.\n",
    "    Rules of recursion: 1) Believe that it works. 2) Start by checking\n",
    "    for the base case (no further information gain). 3) Prepare for\n",
    "    giant stack traces.\n",
    "    \"\"\"\n",
    "\n",
    "    # Try partitioing the dataset on each of the unique attribute,\n",
    "    # calculate the information gain,\n",
    "    # and return the question that produces the highest gain.\n",
    "    gain, question = find_best_split(rows)\n",
    "    # Base case: no further info gain\n",
    "    # Since we can ask no further questions,\n",
    "    # we'll return a leaf.\n",
    "    if gain == 0:\n",
    "        return Leaf(rows)\n",
    "\n",
    "    # If we reach here, we have found a useful feature / value\n",
    "    # to partition on.\n",
    "    true_rows, false_rows = partition(rows, question)\n",
    "\n",
    "    # Recursively build the true branch.\n",
    "    true_branch = build_tree(true_rows)\n",
    "\n",
    "    # Recursively build the false branch.\n",
    "    false_branch = build_tree(false_rows)\n",
    "\n",
    "    # Return a Question node.\n",
    "    # This records the best feature / value to ask at this point,\n",
    "    # as well as the branches to follow\n",
    "    # dependingo on the answer.\n",
    "    return Decision_Node(question, true_branch, false_branch)\n"
   ]
  },
  {
   "cell_type": "code",
   "execution_count": 43,
   "metadata": {
    "id": "wi7-FeqF0ijm"
   },
   "outputs": [],
   "source": [
    "def print_tree(node, spacing=\"\"):\n",
    "\n",
    "    # Base case: we've reached a leaf\n",
    "    if isinstance(node, Leaf):\n",
    "        print (spacing + \"Predict\", node.predictions)\n",
    "        return\n",
    "\n",
    "    # Print the question at this node\n",
    "    print (spacing + str(node.question))\n",
    "\n",
    "    # Call this function recursively on the true branch\n",
    "    print (spacing + '--> True:')\n",
    "    print_tree(node.true_branch, spacing + \"  \")\n",
    "\n",
    "    # Call this function recursively on the false branch\n",
    "    print (spacing + '--> False:')\n",
    "    print_tree(node.false_branch, spacing + \"  \")"
   ]
  },
  {
   "cell_type": "code",
   "execution_count": 44,
   "metadata": {
    "colab": {
     "base_uri": "https://localhost:8080/"
    },
    "id": "H-OcBvkK0ihh",
    "outputId": "fe6564bf-61e4-4c25-cdd7-64d5103beae9"
   },
   "outputs": [],
   "source": [
    "def classify(row, node):\n",
    "\n",
    "    # Base case: we've reached a leaf\n",
    "    if isinstance(node, Leaf):\n",
    "        return node.predictions\n",
    "\n",
    "    # Decide whether to follow the true-branch or the false-branch.\n",
    "    # Compare the feature / value stored in the node,\n",
    "    # to the example we're considering.\n",
    "    if node.question.match(row):\n",
    "        return classify(row, node.true_branch)\n",
    "    else:\n",
    "        return classify(row, node.false_branch)"
   ]
  },
  {
   "cell_type": "code",
   "execution_count": 45,
   "metadata": {
    "id": "OBYmhThQ0tR2"
   },
   "outputs": [],
   "source": [
    "def print_leaf(counts):\n",
    "    \"\"\"A nicer way to print the predictions at a leaf.\"\"\"\n",
    "    total = sum(counts.values()) * 1.0\n",
    "    probs = {}\n",
    "    for lbl in counts.keys():\n",
    "        probs[lbl] = str(int(counts[lbl] / total * 100)) + \"%\"\n",
    "        \n",
    "    return probs"
   ]
  },
  {
   "cell_type": "code",
   "execution_count": 47,
   "metadata": {
    "colab": {
     "base_uri": "https://localhost:8080/"
    },
    "id": "-k9Hfeaj0tUe",
    "outputId": "71ae5559-2eaf-40fb-d0f8-b5e2632b6174"
   },
   "outputs": [
    {
     "name": "stdout",
     "output_type": "stream",
     "text": [
      "Is pConc_r >= 0.3626386461586635?\n",
      "--> True:\n",
      "  Is pConc_r >= 0.3745722834978756?\n",
      "  --> True:\n",
      "    Predict {'spiral': 192}\n",
      "  --> False:\n",
      "    Is g-r >= 0.7860399999999981?\n",
      "    --> True:\n",
      "      Predict {'elliptical': 2}\n",
      "    --> False:\n",
      "      Predict {'spiral': 5}\n",
      "--> False:\n",
      "  Is u-g >= 1.6989600000000014?\n",
      "  --> True:\n",
      "    Is ecc >= 0.6039394?\n",
      "    --> True:\n",
      "      Predict {'elliptical': 204}\n",
      "    --> False:\n",
      "      Is ecc >= 0.5970721?\n",
      "      --> True:\n",
      "        Predict {'spiral': 1}\n",
      "      --> False:\n",
      "        Predict {'elliptical': 2}\n",
      "  --> False:\n",
      "    Is petroR50_u >= 5.164757?\n",
      "    --> True:\n",
      "      Predict {'spiral': 6}\n",
      "    --> False:\n",
      "      Is petroR90_z >= 8.220436?\n",
      "      --> True:\n",
      "        Predict {'elliptical': 3}\n",
      "      --> False:\n",
      "        Predict {'spiral': 1}\n",
      "Actual: elliptical. Predicted: {'elliptical': '100%'}\n",
      "Actual: elliptical. Predicted: {'elliptical': '100%'}\n",
      "Actual: elliptical. Predicted: {'elliptical': '100%'}\n",
      "Actual: spiral. Predicted: {'spiral': '100%'}\n",
      "Actual: elliptical. Predicted: {'elliptical': '100%'}\n",
      "Actual: spiral. Predicted: {'spiral': '100%'}\n",
      "Actual: spiral. Predicted: {'spiral': '100%'}\n",
      "Actual: spiral. Predicted: {'spiral': '100%'}\n",
      "Actual: spiral. Predicted: {'spiral': '100%'}\n",
      "Actual: spiral. Predicted: {'spiral': '100%'}\n",
      "Actual: spiral. Predicted: {'spiral': '100%'}\n",
      "Actual: elliptical. Predicted: {'elliptical': '100%'}\n",
      "Actual: spiral. Predicted: {'spiral': '100%'}\n",
      "Actual: elliptical. Predicted: {'elliptical': '100%'}\n",
      "Actual: spiral. Predicted: {'spiral': '100%'}\n",
      "Actual: spiral. Predicted: {'spiral': '100%'}\n",
      "Actual: elliptical. Predicted: {'elliptical': '100%'}\n",
      "Actual: elliptical. Predicted: {'elliptical': '100%'}\n",
      "Actual: spiral. Predicted: {'spiral': '100%'}\n",
      "Actual: elliptical. Predicted: {'elliptical': '100%'}\n",
      "Actual: elliptical. Predicted: {'elliptical': '100%'}\n",
      "Actual: elliptical. Predicted: {'elliptical': '100%'}\n",
      "Actual: spiral. Predicted: {'spiral': '100%'}\n",
      "Actual: elliptical. Predicted: {'elliptical': '100%'}\n",
      "Actual: elliptical. Predicted: {'elliptical': '100%'}\n",
      "Actual: spiral. Predicted: {'spiral': '100%'}\n",
      "Actual: spiral. Predicted: {'spiral': '100%'}\n",
      "Actual: elliptical. Predicted: {'elliptical': '100%'}\n",
      "Actual: elliptical. Predicted: {'elliptical': '100%'}\n",
      "Actual: elliptical. Predicted: {'elliptical': '100%'}\n",
      "Actual: elliptical. Predicted: {'elliptical': '100%'}\n",
      "Actual: elliptical. Predicted: {'elliptical': '100%'}\n",
      "Actual: elliptical. Predicted: {'elliptical': '100%'}\n",
      "Actual: elliptical. Predicted: {'elliptical': '100%'}\n",
      "Actual: spiral. Predicted: {'spiral': '100%'}\n",
      "Actual: elliptical. Predicted: {'elliptical': '100%'}\n",
      "Actual: spiral. Predicted: {'spiral': '100%'}\n",
      "Actual: spiral. Predicted: {'spiral': '100%'}\n",
      "Actual: elliptical. Predicted: {'elliptical': '100%'}\n",
      "Actual: spiral. Predicted: {'spiral': '100%'}\n",
      "Actual: elliptical. Predicted: {'elliptical': '100%'}\n",
      "Actual: spiral. Predicted: {'spiral': '100%'}\n",
      "Actual: spiral. Predicted: {'spiral': '100%'}\n",
      "Actual: spiral. Predicted: {'spiral': '100%'}\n",
      "Actual: elliptical. Predicted: {'elliptical': '100%'}\n",
      "Actual: elliptical. Predicted: {'elliptical': '100%'}\n",
      "Actual: spiral. Predicted: {'spiral': '100%'}\n",
      "Actual: spiral. Predicted: {'spiral': '100%'}\n",
      "Actual: elliptical. Predicted: {'elliptical': '100%'}\n",
      "Actual: elliptical. Predicted: {'elliptical': '100%'}\n",
      "Actual: spiral. Predicted: {'spiral': '100%'}\n",
      "Actual: spiral. Predicted: {'spiral': '100%'}\n",
      "Actual: spiral. Predicted: {'spiral': '100%'}\n",
      "Actual: elliptical. Predicted: {'elliptical': '100%'}\n",
      "Actual: spiral. Predicted: {'spiral': '100%'}\n",
      "Actual: spiral. Predicted: {'spiral': '100%'}\n",
      "Actual: spiral. Predicted: {'spiral': '100%'}\n",
      "Actual: spiral. Predicted: {'spiral': '100%'}\n",
      "Actual: elliptical. Predicted: {'elliptical': '100%'}\n",
      "Actual: elliptical. Predicted: {'elliptical': '100%'}\n",
      "Actual: spiral. Predicted: {'spiral': '100%'}\n",
      "Actual: spiral. Predicted: {'spiral': '100%'}\n",
      "Actual: elliptical. Predicted: {'elliptical': '100%'}\n",
      "Actual: spiral. Predicted: {'spiral': '100%'}\n",
      "Actual: spiral. Predicted: {'spiral': '100%'}\n",
      "Actual: elliptical. Predicted: {'elliptical': '100%'}\n",
      "Actual: spiral. Predicted: {'spiral': '100%'}\n",
      "Actual: elliptical. Predicted: {'elliptical': '100%'}\n",
      "Actual: spiral. Predicted: {'spiral': '100%'}\n",
      "Actual: spiral. Predicted: {'spiral': '100%'}\n",
      "Actual: spiral. Predicted: {'spiral': '100%'}\n",
      "Actual: elliptical. Predicted: {'elliptical': '100%'}\n",
      "Actual: spiral. Predicted: {'spiral': '100%'}\n",
      "Actual: spiral. Predicted: {'spiral': '100%'}\n",
      "Actual: spiral. Predicted: {'spiral': '100%'}\n",
      "Actual: elliptical. Predicted: {'elliptical': '100%'}\n",
      "Actual: elliptical. Predicted: {'elliptical': '100%'}\n",
      "Actual: elliptical. Predicted: {'elliptical': '100%'}\n",
      "Actual: elliptical. Predicted: {'elliptical': '100%'}\n",
      "Actual: spiral. Predicted: {'spiral': '100%'}\n",
      "Actual: spiral. Predicted: {'spiral': '100%'}\n",
      "Actual: elliptical. Predicted: {'elliptical': '100%'}\n",
      "Actual: elliptical. Predicted: {'spiral': '100%'}\n",
      "Actual: elliptical. Predicted: {'elliptical': '100%'}\n",
      "Actual: spiral. Predicted: {'spiral': '100%'}\n",
      "Actual: elliptical. Predicted: {'elliptical': '100%'}\n",
      "Actual: spiral. Predicted: {'spiral': '100%'}\n",
      "Actual: elliptical. Predicted: {'elliptical': '100%'}\n",
      "Actual: spiral. Predicted: {'spiral': '100%'}\n",
      "Actual: elliptical. Predicted: {'elliptical': '100%'}\n",
      "Actual: elliptical. Predicted: {'elliptical': '100%'}\n",
      "Actual: spiral. Predicted: {'spiral': '100%'}\n",
      "Actual: spiral. Predicted: {'spiral': '100%'}\n",
      "Actual: elliptical. Predicted: {'elliptical': '100%'}\n",
      "Actual: spiral. Predicted: {'spiral': '100%'}\n",
      "Actual: spiral. Predicted: {'spiral': '100%'}\n",
      "Actual: elliptical. Predicted: {'elliptical': '100%'}\n",
      "Actual: spiral. Predicted: {'spiral': '100%'}\n",
      "Actual: elliptical. Predicted: {'elliptical': '100%'}\n",
      "Actual: spiral. Predicted: {'spiral': '100%'}\n",
      "Actual: elliptical. Predicted: {'elliptical': '100%'}\n",
      "Actual: spiral. Predicted: {'spiral': '100%'}\n",
      "Actual: spiral. Predicted: {'spiral': '100%'}\n",
      "Actual: spiral. Predicted: {'spiral': '100%'}\n",
      "              precision    recall  f1-score   support\n",
      "\n",
      "  elliptical       1.00      0.98      0.99        49\n",
      "      spiral       0.98      1.00      0.99        55\n",
      "\n",
      "    accuracy                           0.99       104\n",
      "   macro avg       0.99      0.99      0.99       104\n",
      "weighted avg       0.99      0.99      0.99       104\n",
      "\n"
     ]
    }
   ],
   "source": [
    "if __name__ == '__main__':\n",
    "\n",
    "    my_tree = build_tree(sydney_train)\n",
    "\n",
    "    print_tree(my_tree)\n",
    "\n",
    "    predicted= []\n",
    "    actual = []\n",
    "    for row in sydney_test:\n",
    "        most_probable = print_leaf(classify(row, my_tree))\n",
    "        predicted += [next(iter(most_probable))]\n",
    "        actual += [row[-1]]\n",
    "        print(\"Actual: %s. Predicted: %s\" %(row[-1], print_leaf(classify(row, my_tree))))\n",
    "    print(classification_report(actual, predicted))"
   ]
  },
  {
   "cell_type": "code",
   "execution_count": null,
   "metadata": {
    "id": "ThzOxFcB0tXI"
   },
   "outputs": [],
   "source": []
  },
  {
   "cell_type": "code",
   "execution_count": null,
   "metadata": {
    "id": "pvGBHpC90tZc"
   },
   "outputs": [],
   "source": []
  },
  {
   "cell_type": "code",
   "execution_count": null,
   "metadata": {
    "id": "070kw1WD0ifb"
   },
   "outputs": [],
   "source": []
  }
 ],
 "metadata": {
  "colab": {
   "name": "Untitled10.ipynb",
   "provenance": []
  },
  "kernelspec": {
   "display_name": "Python 3",
   "language": "python",
   "name": "python3"
  },
  "language_info": {
   "codemirror_mode": {
    "name": "ipython",
    "version": 3
   },
   "file_extension": ".py",
   "mimetype": "text/x-python",
   "name": "python",
   "nbconvert_exporter": "python",
   "pygments_lexer": "ipython3",
   "version": "3.8.3"
  }
 },
 "nbformat": 4,
 "nbformat_minor": 4
}
