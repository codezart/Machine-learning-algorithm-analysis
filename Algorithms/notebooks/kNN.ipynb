{
 "cells": [
  {
   "cell_type": "code",
   "execution_count": 11,
   "metadata": {
    "id": "9hVIhQKY3QjO"
   },
   "outputs": [],
   "source": [
    "import pandas as pd\n",
    "import numpy as np\n",
    "import matplotlib.pyplot as plt\n",
    "from sklearn.metrics import confusion_matrix, classification_report"
   ]
  },
  {
   "cell_type": "markdown",
   "metadata": {
    "id": "x5FEly3o3QjT"
   },
   "source": [
    "## Reading Data"
   ]
  },
  {
   "cell_type": "code",
   "execution_count": 14,
   "metadata": {
    "id": "itcVUp0s3QjU"
   },
   "outputs": [],
   "source": [
    "# GALAXY DATASET\n",
    "def DatasetGALAXY():\n",
    "    df = pd.read_csv('../../Data/galaxymorphology/dataset1_sydney.csv')\n",
    "    df.head()\n",
    "    df['target'].value_counts()\n",
    "    mapping = {\n",
    "        'elliptical': 0,\n",
    "        'spiral':1\n",
    "    }\n",
    "    df['target'] = df['target'].map(mapping)\n",
    "    x = df.sample(df.shape[0])\n",
    "    df = x.iloc[:, :5]\n",
    "    df['target'] = x.iloc[:,-1]\n",
    "    return df\n",
    "df = DatasetGALAXY()"
   ]
  },
  {
   "cell_type": "code",
   "execution_count": 62,
   "metadata": {
    "id": "pxAG60L63QjU"
   },
   "outputs": [],
   "source": [
    "#CAR DATASET\n",
    "def DatasetCAR():\n",
    "    df = pd.read_csv('../../Data/dataset1-car/car_dataset.csv')\n",
    "    \n",
    "    df['buying'].replace(['vhigh', 'high', 'med', 'low'],[3,2,1,0], inplace = True)\n",
    "    df['maintenance'].replace(['vhigh', 'high', 'med', 'low'],[3,2,1,0], inplace = True)\n",
    "    df['doors'].replace(['2', '3', '4', '5more'],[2,3,4,5], inplace = True)\n",
    "    df['persons'].replace(['2', '4', 'more'],[2,4,5], inplace = True)\n",
    "    df['lug_boot'].replace(['small', 'med', 'big'],[1,2,3], inplace = True)\n",
    "    df['safety'].replace(['high', 'med', 'low'],[3,2,1], inplace = True)\n",
    "    df['target'].replace(['unacc', 'acc', 'good', 'vgood'],[0,1,2,3], inplace = True)\n",
    "    df= df[df.target !=3]\n",
    "    df= df[df.target !=2]\n",
    "    df = df.sample(df.shape[0])\n",
    "    return df\n",
    "\n",
    "df = DatasetCAR()\n"
   ]
  },
  {
   "cell_type": "code",
   "execution_count": 66,
   "metadata": {},
   "outputs": [],
   "source": [
    "#IRIS DATASET\n",
    "def DatasetIRIS():\n",
    "    df = pd.read_csv('../../Data/iris/iris.data')\n",
    "    df['target'].replace(['Iris-setosa', 'Iris-versicolor', 'Iris-virginica'],[0,1,2], inplace = True)\n",
    "    df = df.sample(df.shape[0])\n",
    "    return df\n",
    "df = DatasetIRIS()\n"
   ]
  },
  {
   "cell_type": "code",
   "execution_count": 69,
   "metadata": {},
   "outputs": [],
   "source": [
    "#TITANIC DATASET\n",
    "def DatasetTITANIC():\n",
    "    df = pd.read_csv('../../Data/Titanic/train.csv')\n",
    "    df.drop(columns = ['Cabin', 'Embarked', 'Ticket','Name','PassengerId'], inplace=True)\n",
    "    df['Sex'].replace(['male', 'female'],[0,1], inplace = True)\n",
    "    df =df.dropna()\n",
    "    \n",
    "    return df\n",
    "df = DatasetTITANIC()"
   ]
  },
  {
   "cell_type": "code",
   "execution_count": 73,
   "metadata": {
    "colab": {
     "base_uri": "https://localhost:8080/",
     "height": 439
    },
    "id": "NAVq-8vL3QjV",
    "outputId": "eb02ab0d-99b7-4131-ea5a-4879a339becb",
    "scrolled": true
   },
   "outputs": [
    {
     "data": {
      "text/html": [
       "<div>\n",
       "<style scoped>\n",
       "    .dataframe tbody tr th:only-of-type {\n",
       "        vertical-align: middle;\n",
       "    }\n",
       "\n",
       "    .dataframe tbody tr th {\n",
       "        vertical-align: top;\n",
       "    }\n",
       "\n",
       "    .dataframe thead th {\n",
       "        text-align: right;\n",
       "    }\n",
       "</style>\n",
       "<table border=\"1\" class=\"dataframe\">\n",
       "  <thead>\n",
       "    <tr style=\"text-align: right;\">\n",
       "      <th></th>\n",
       "      <th>buying</th>\n",
       "      <th>maintenance</th>\n",
       "      <th>doors</th>\n",
       "      <th>persons</th>\n",
       "      <th>lug_boot</th>\n",
       "      <th>safety</th>\n",
       "      <th>target</th>\n",
       "    </tr>\n",
       "  </thead>\n",
       "  <tbody>\n",
       "    <tr>\n",
       "      <th>100</th>\n",
       "      <td>3</td>\n",
       "      <td>3</td>\n",
       "      <td>5</td>\n",
       "      <td>5</td>\n",
       "      <td>1</td>\n",
       "      <td>2</td>\n",
       "      <td>0</td>\n",
       "    </tr>\n",
       "    <tr>\n",
       "      <th>1361</th>\n",
       "      <td>0</td>\n",
       "      <td>3</td>\n",
       "      <td>4</td>\n",
       "      <td>4</td>\n",
       "      <td>1</td>\n",
       "      <td>3</td>\n",
       "      <td>1</td>\n",
       "    </tr>\n",
       "    <tr>\n",
       "      <th>695</th>\n",
       "      <td>2</td>\n",
       "      <td>1</td>\n",
       "      <td>3</td>\n",
       "      <td>5</td>\n",
       "      <td>1</td>\n",
       "      <td>3</td>\n",
       "      <td>1</td>\n",
       "    </tr>\n",
       "    <tr>\n",
       "      <th>1243</th>\n",
       "      <td>1</td>\n",
       "      <td>0</td>\n",
       "      <td>4</td>\n",
       "      <td>2</td>\n",
       "      <td>1</td>\n",
       "      <td>2</td>\n",
       "      <td>0</td>\n",
       "    </tr>\n",
       "    <tr>\n",
       "      <th>491</th>\n",
       "      <td>2</td>\n",
       "      <td>3</td>\n",
       "      <td>4</td>\n",
       "      <td>2</td>\n",
       "      <td>2</td>\n",
       "      <td>3</td>\n",
       "      <td>0</td>\n",
       "    </tr>\n",
       "    <tr>\n",
       "      <th>...</th>\n",
       "      <td>...</td>\n",
       "      <td>...</td>\n",
       "      <td>...</td>\n",
       "      <td>...</td>\n",
       "      <td>...</td>\n",
       "      <td>...</td>\n",
       "      <td>...</td>\n",
       "    </tr>\n",
       "    <tr>\n",
       "      <th>178</th>\n",
       "      <td>3</td>\n",
       "      <td>2</td>\n",
       "      <td>4</td>\n",
       "      <td>4</td>\n",
       "      <td>3</td>\n",
       "      <td>2</td>\n",
       "      <td>0</td>\n",
       "    </tr>\n",
       "    <tr>\n",
       "      <th>113</th>\n",
       "      <td>3</td>\n",
       "      <td>2</td>\n",
       "      <td>2</td>\n",
       "      <td>2</td>\n",
       "      <td>2</td>\n",
       "      <td>3</td>\n",
       "      <td>0</td>\n",
       "    </tr>\n",
       "    <tr>\n",
       "      <th>1399</th>\n",
       "      <td>0</td>\n",
       "      <td>3</td>\n",
       "      <td>5</td>\n",
       "      <td>5</td>\n",
       "      <td>2</td>\n",
       "      <td>2</td>\n",
       "      <td>1</td>\n",
       "    </tr>\n",
       "    <tr>\n",
       "      <th>1410</th>\n",
       "      <td>0</td>\n",
       "      <td>2</td>\n",
       "      <td>2</td>\n",
       "      <td>2</td>\n",
       "      <td>3</td>\n",
       "      <td>1</td>\n",
       "      <td>0</td>\n",
       "    </tr>\n",
       "    <tr>\n",
       "      <th>299</th>\n",
       "      <td>3</td>\n",
       "      <td>1</td>\n",
       "      <td>5</td>\n",
       "      <td>2</td>\n",
       "      <td>1</td>\n",
       "      <td>3</td>\n",
       "      <td>0</td>\n",
       "    </tr>\n",
       "  </tbody>\n",
       "</table>\n",
       "<p>1594 rows × 7 columns</p>\n",
       "</div>"
      ],
      "text/plain": [
       "      buying  maintenance  doors  persons  lug_boot  safety  target\n",
       "100        3            3      5        5         1       2       0\n",
       "1361       0            3      4        4         1       3       1\n",
       "695        2            1      3        5         1       3       1\n",
       "1243       1            0      4        2         1       2       0\n",
       "491        2            3      4        2         2       3       0\n",
       "...      ...          ...    ...      ...       ...     ...     ...\n",
       "178        3            2      4        4         3       2       0\n",
       "113        3            2      2        2         2       3       0\n",
       "1399       0            3      5        5         2       2       1\n",
       "1410       0            2      2        2         3       1       0\n",
       "299        3            1      5        2         1       3       0\n",
       "\n",
       "[1594 rows x 7 columns]"
      ]
     },
     "execution_count": 73,
     "metadata": {},
     "output_type": "execute_result"
    }
   ],
   "source": [
    "df"
   ]
  },
  {
   "cell_type": "markdown",
   "metadata": {},
   "source": [
    "# KNN Algorithm"
   ]
  },
  {
   "cell_type": "code",
   "execution_count": 16,
   "metadata": {
    "id": "9-gbPoi43QjY"
   },
   "outputs": [],
   "source": [
    "def distance(x_query, x):\n",
    "    return np.sum((x_query - x)**2)**0.5"
   ]
  },
  {
   "cell_type": "code",
   "execution_count": 52,
   "metadata": {
    "id": "DT5oq5-o3QjY"
   },
   "outputs": [],
   "source": [
    "def kNN(X, y, x_test, k=5):\n",
    "\n",
    "    train_size = X.shape[0]\n",
    "    \n",
    "    pred = []\n",
    "    for x_query in x_test:\n",
    "        distances = []\n",
    "        for i in range(train_size):\n",
    "            dis = distance(x_query, X[i])\n",
    "            \n",
    "            distances.append((dis, y[i]))\n",
    "    \n",
    "            distances = sorted(distances)\n",
    "            distances = distances[:k]\n",
    "\n",
    "        distances = np.array(distances)\n",
    "        labels = distances[:,1]\n",
    "\n",
    "        uniq_label, counts = np.unique(labels, return_counts=True)   \n",
    "        pred.append(int(uniq_label[counts.argmax()]))\n",
    "\n",
    "    return pred"
   ]
  },
  {
   "cell_type": "code",
   "execution_count": 53,
   "metadata": {
    "id": "StIE84yWYtrg"
   },
   "outputs": [],
   "source": [
    "def get_overall_cm(df):\n",
    "    classes = df['target'].nunique()\n",
    "    if classes < 2:\n",
    "        classes = 2\n",
    "    overall_cm = []\n",
    "    for i in range(classes):\n",
    "        overall_cm.append( [0] * classes)\n",
    "    return overall_cm"
   ]
  },
  {
   "cell_type": "code",
   "execution_count": 60,
   "metadata": {
    "colab": {
     "base_uri": "https://localhost:8080/"
    },
    "id": "xSbplSlWFMJo",
    "outputId": "c8dce5f0-04b1-444f-a9a9-4fba3e213b49"
   },
   "outputs": [],
   "source": [
    "def Kfold(df,n_folds, test_size, overall_cm):\n",
    "    # Iterate through all folds\n",
    "    overall_actual = []\n",
    "    overall_predicted = []\n",
    "    for i in range(n_folds):\n",
    "        # split test and train\n",
    "        test = df.iloc[test_size * i : test_size*i+test_size]\n",
    "        train = df.iloc[test_size:]\n",
    "\n",
    "        # remove target label and convert it to numpy for KNN to work\n",
    "        X_train = test.iloc[:,:-1].to_numpy()\n",
    "        y_train = test.iloc[:,-1].to_numpy()\n",
    "        X_test = test.iloc[:,:-1].to_numpy()\n",
    "        y_test = list(test.iloc[:,-1])\n",
    "\n",
    "        #start training and testing the dataset\n",
    "        y_pred = kNN(X_train, y_train, X_test, k=7)\n",
    "        # generate and append cm \n",
    "\n",
    "        for p,a in zip(y_pred,y_test):\n",
    "            overall_predicted.append(p)\n",
    "            overall_actual.append(a)\n",
    "        overall_cm = overall_cm + confusion_matrix(y_test, y_pred)\n",
    "\n",
    "    print(classification_report( overall_predicted, overall_actual))\n",
    "    return overall_cm"
   ]
  },
  {
   "cell_type": "markdown",
   "metadata": {},
   "source": [
    "# TRAIN + TEST"
   ]
  },
  {
   "cell_type": "code",
   "execution_count": 71,
   "metadata": {},
   "outputs": [
    {
     "name": "stdout",
     "output_type": "stream",
     "text": [
      "              precision    recall  f1-score   support\n",
      "\n",
      "           0       0.82      0.76      0.79       671\n",
      "           1       0.62      0.71      0.66       373\n",
      "\n",
      "    accuracy                           0.74      1044\n",
      "   macro avg       0.72      0.73      0.72      1044\n",
      "weighted avg       0.75      0.74      0.74      1044\n",
      "\n",
      "\n",
      "\n",
      "\n",
      " Confusion Matrix\n",
      "[[508 109]\n",
      " [163 264]]\n"
     ]
    }
   ],
   "source": [
    "if __name__ == \"__main__\":\n",
    "    # KFOLD take in n folds and the size of dataset\n",
    "    n_folds = 2\n",
    "    test_size = int(df.shape[0]/n_folds)\n",
    "\n",
    "    # get overall cm returns a Confusion matrix with 0's shape depends on (classes)\n",
    "    final_confusion_matrix= Kfold(df,n_folds, test_size, get_overall_cm(df))\n",
    "\n",
    "    print(f\"\\n\\n\\n Confusion Matrix\\n{final_confusion_matrix}\")"
   ]
  },
  {
   "cell_type": "code",
   "execution_count": 65,
   "metadata": {
    "id": "CgGnbf_UTfUW"
   },
   "outputs": [],
   "source": [
    "#from sklearn.model_selection import KFold, cross_val_score\n",
    "# from sklearn.metrics import make_scorer\n",
    "#  kf = KFold(n_splits=n_folds)\n",
    "# overall_cm = [[0, 0], [0, 0]]\n",
    "# cross_val_score(kNN, X_train, y_train, scoring=make_scorer(classification_report_with_accuracy_score))\n",
    "# overall_cm = overall_cm + confusion_matrix(originalclass, predictedclass)"
   ]
  },
  {
   "cell_type": "code",
   "execution_count": null,
   "metadata": {},
   "outputs": [],
   "source": []
  },
  {
   "cell_type": "code",
   "execution_count": null,
   "metadata": {},
   "outputs": [],
   "source": []
  }
 ],
 "metadata": {
  "accelerator": "GPU",
  "colab": {
   "collapsed_sections": [],
   "name": "kNN  .ipynb",
   "provenance": []
  },
  "kernelspec": {
   "display_name": "Python 3",
   "language": "python",
   "name": "python3"
  },
  "language_info": {
   "codemirror_mode": {
    "name": "ipython",
    "version": 3
   },
   "file_extension": ".py",
   "mimetype": "text/x-python",
   "name": "python",
   "nbconvert_exporter": "python",
   "pygments_lexer": "ipython3",
   "version": "3.8.3"
  }
 },
 "nbformat": 4,
 "nbformat_minor": 1
}
