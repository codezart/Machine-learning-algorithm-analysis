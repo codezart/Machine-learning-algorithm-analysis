{
 "cells": [
  {
   "cell_type": "code",
   "execution_count": 2,
   "metadata": {},
   "outputs": [],
   "source": [
    "#importing all necessary libraries\n",
    "import pandas as pd\n",
    "import numpy as np"
   ]
  },
  {
   "cell_type": "code",
   "execution_count": 23,
   "metadata": {},
   "outputs": [
    {
     "name": "stdout",
     "output_type": "stream",
     "text": [
      "<class 'str'>\n"
     ]
    }
   ],
   "source": [
    "# reading car dataset \n",
    "\n",
    "car_dataset = pd.read_csv('Data/dataset1-car/car.data')\n",
    "\n",
    "\n",
    "\"\"\"\n",
    "| Attributes: -\n",
    "    buying:   vhigh, high, med, low.\n",
    "    maint:    vhigh, high, med, low.\n",
    "    doors:    2, 3, 4, 5more.\n",
    "    persons:  2, 4, more.\n",
    "    lug_boot: small, med, big.\n",
    "    safety:   low, med, high.\n",
    "\n",
    "| Class values: -\n",
    "    unacc, acc, good, vgood\n",
    "\"\"\"\n",
    "buying_mapping ={\n",
    "    'vhigh':0,\n",
    "    'high':1,\n",
    "    'med':2,\n",
    "    'low':3\n",
    "}\n",
    "maintenance_mapping ={\n",
    "    'vhigh':0,\n",
    "    'high':1,\n",
    "    'med':2,\n",
    "    'low':3\n",
    "}\n",
    "lug_boot_mapping ={\n",
    "    'small':0,\n",
    "    'med':1,\n",
    "    'big':2\n",
    "}\n",
    "safety_mapping ={\n",
    "    'low':0,\n",
    "    'med':1,\n",
    "    'high':2\n",
    "}\n",
    "target_mapping ={\n",
    "    'unacc':0,\n",
    "    'acc':1,\n",
    "    'good':2,\n",
    "    'vgood':3\n",
    "}\n",
    "\n",
    "car_dataset['buying'] =  car_dataset['buying'].map(buying_mapping)\n",
    "car_dataset['maintenance'] =  car_dataset['maintenance'].map(maintenance_mapping)\n",
    "car_dataset['lug_boot'] =  car_dataset['lug_boot'].map(lug_boot_mapping)\n",
    "car_dataset['safety'] =  car_dataset['safety'].map(safety_mapping)\n",
    "car_dataset['class'] =  car_dataset['class'].map(target_mapping)\n",
    "\n",
    "#convert to csv file\n",
    "car_dataset.to_csv('Data/dataset1-car/car_dataset.csv', index=False)\n",
    "#read car dataset\n",
    "def car_dataset():\n",
    "    return pd.read_csv('Data/dataset1-car/car_dataset.csv')"
   ]
  },
  {
   "cell_type": "code",
   "execution_count": null,
   "metadata": {},
   "outputs": [],
   "source": []
  },
  {
   "cell_type": "code",
   "execution_count": null,
   "metadata": {},
   "outputs": [],
   "source": []
  }
 ],
 "metadata": {
  "kernelspec": {
   "display_name": "Python 3",
   "language": "python",
   "name": "python3"
  },
  "language_info": {
   "codemirror_mode": {
    "name": "ipython",
    "version": 3
   },
   "file_extension": ".py",
   "mimetype": "text/x-python",
   "name": "python",
   "nbconvert_exporter": "python",
   "pygments_lexer": "ipython3",
   "version": "3.8.3"
  }
 },
 "nbformat": 4,
 "nbformat_minor": 4
}
